{
 "cells": [
  {
   "cell_type": "code",
   "execution_count": 1,
   "id": "2ba73285",
   "metadata": {},
   "outputs": [],
   "source": [
    "from sklearn.feature_selection import SelectFdr, f_classif\n",
    "import pandas as pd\n",
    "import numpy as np\n",
    "from sklearn.preprocessing import MinMaxScaler\n",
    "from scipy.stats import wilcoxon\n",
    "from scipy.stats import ranksums\n",
    "from statsmodels.stats.multitest import fdrcorrection\n",
    "import pandas as pd\n",
    "from sklearn.preprocessing import StandardScaler\n",
    "from sklearn.feature_selection import SelectKBest, f_classif,f_regression\n",
    "from sklearn.linear_model import LogisticRegression\n",
    "from sklearn.pipeline import Pipeline\n",
    "from sklearn.model_selection import RandomizedSearchCV\n",
    "from sklearn.svm import SVC\n",
    "from sklearn.metrics import roc_curve, auc, mean_squared_error, precision_score, jaccard_score, fowlkes_mallows_score, roc_auc_score\n",
    "from sklearn.ensemble import RandomForestClassifier\n",
    "from sklearn.base import BaseEstimator, TransformerMixin, RegressorMixin, clone\n",
    "import numpy as np\n",
    "from sklearn.ensemble import RandomForestRegressor\n",
    "from sklearn.metrics import mean_squared_error,mean_absolute_error,r2_score\n",
    "from boruta import BorutaPy\n",
    "from sklearn.model_selection import StratifiedKFold, RepeatedStratifiedKFold\n",
    "import numpy as np\n",
    "import pandas as pd\n",
    "from sklearn.ensemble import RandomForestClassifier\n",
    "from boruta import BorutaPy\n",
    "from sklearn.model_selection import train_test_split"
   ]
  },
  {
   "cell_type": "code",
   "execution_count": 5,
   "id": "9497ff23-1f2c-4675-be1f-5d8f2fb4d3a2",
   "metadata": {},
   "outputs": [],
   "source": [
    "rna = pd.read_csv('D:/multiomics/2025june/rna_rb.csv', sep=',')\n",
    "lipid = pd.read_csv('D:/multiomics/2025june/lipid_rb.csv', sep=',')\n",
    "meta = pd.read_csv('D:/multiomics/2025june/meta_rb.csv', sep=',')"
   ]
  },
  {
   "cell_type": "code",
   "execution_count": 7,
   "id": "fed96c89-3503-482b-81ad-370206e3822e",
   "metadata": {},
   "outputs": [],
   "source": [
    "sets_to_intersect = [\n",
    "    set(rna['id']),\n",
    "    set(lipid['id']),\n",
    "    set(meta['id'])\n",
    "]\n",
    "\n",
    "common_ids = set.intersection(*sets_to_intersect)\n",
    "\n",
    "sorted_common_ids = sorted(common_ids)\n",
    "\n",
    "meta = meta[meta['id'].isin(common_ids)].set_index('id').loc[sorted_common_ids].reset_index()\n",
    "lipid = lipid[lipid['id'].isin(common_ids)].set_index('id').loc[sorted_common_ids].reset_index()\n",
    "rna = rna[rna['id'].isin(common_ids)].set_index('id').loc[sorted_common_ids].reset_index()"
   ]
  },
  {
   "cell_type": "code",
   "execution_count": 8,
   "id": "17c6a3d1-42a5-4b4b-a364-b74b9be13e5a",
   "metadata": {},
   "outputs": [
    {
     "data": {
      "text/plain": [
       "(250, 250)"
      ]
     },
     "execution_count": 8,
     "metadata": {},
     "output_type": "execute_result"
    }
   ],
   "source": [
    "sum(rna['id']==meta['id']),sum(rna['id']==lipid['id'])"
   ]
  },
  {
   "cell_type": "code",
   "execution_count": 9,
   "id": "44b2ff22-e150-4eb5-b8fc-18be7d8fe664",
   "metadata": {},
   "outputs": [],
   "source": [
    "def get_quantile(X_train, column_name,new_column_name,a,b,position):\n",
    "\n",
    "    percentile_a = X_train[column_name].quantile(a)\n",
    "    percentile_b = X_train[column_name].quantile(b)\n",
    "\n",
    "    X_train[new_column_name] = 0\n",
    "    X_train.loc[X_train[column_name] <= percentile_a, new_column_name] = 1\n",
    "\n",
    "    column_to_move = new_column_name\n",
    "    target_column = position\n",
    "\n",
    "    column = X_train.pop(column_to_move)\n",
    "    X_train.insert(target_column, column_to_move, column)\n",
    "    \n",
    "    return X_train"
   ]
  },
  {
   "cell_type": "code",
   "execution_count": 10,
   "id": "905d31ca-44ff-43cb-8760-53f3eead0d81",
   "metadata": {},
   "outputs": [
    {
     "name": "stderr",
     "output_type": "stream",
     "text": [
      "C:\\Users\\win11\\AppData\\Local\\Temp\\ipykernel_65176\\3841276717.py:16: PerformanceWarning: DataFrame is highly fragmented.  This is usually the result of calling `frame.insert` many times, which has poor performance.  Consider joining all columns at once using pd.concat(axis=1) instead. To get a de-fragmented frame, use `newframe = frame.copy()`\n",
      "  X_train.insert(target_column, column_to_move, column)\n"
     ]
    }
   ],
   "source": [
    "rna = get_quantile(rna, 'sVNT_M1_WT_RBD_10_times_dilution','sVNT_M1_WT_RBD',0.25,0,10)\n",
    "meta = meta.reset_index(drop=True)\n",
    "lipid = lipid.reset_index(drop=True)\n",
    "rna = rna.reset_index(drop=True)"
   ]
  },
  {
   "cell_type": "code",
   "execution_count": 11,
   "id": "b580d6ce-184c-4cd9-8e84-7aa6059b49f5",
   "metadata": {},
   "outputs": [],
   "source": [
    "import seaborn as sns\n",
    "import matplotlib.pyplot as plt"
   ]
  },
  {
   "cell_type": "code",
   "execution_count": 19,
   "id": "da76c307-55a0-410e-9be0-b42263f7378a",
   "metadata": {},
   "outputs": [
    {
     "data": {
      "image/png": "[encoded data removed]",
      "text/plain": [
       "<Figure size 640x480 with 1 Axes>"
      ]
     },
     "metadata": {},
     "output_type": "display_data"
    }
   ],
   "source": [
    "df_sorted = rna.sort_values(by= 'sVNT_M1_WT_RBD_10_times_dilution', ascending=False)\n",
    "top_25_percent_index = int(len(df_sorted) * 0.75)\n",
    "top_25_values = df_sorted.iloc[:top_25_percent_index]\n",
    "\n",
    "plt.hist(rna[ 'sVNT_M1_WT_RBD_10_times_dilution'], bins=50, color='skyblue', edgecolor='black')  \n",
    "plt.xlabel('sVNT')  \n",
    "plt.ylabel('Frequency')  \n",
    "\n",
    "plt.axvline(x=top_25_values.iloc[-1]['sVNT_M1_WT_RBD_10_times_dilution'], color='red', linestyle='--', label='Top 25% Boundary')\n",
    "plt.legend()\n",
    "plt.show() "
   ]
  },
  {
   "cell_type": "code",
   "execution_count": 21,
   "id": "f83343f5-6ade-48b0-b407-26b5985e8493",
   "metadata": {},
   "outputs": [],
   "source": [
    "f_rna = rna.iloc[:,14:]\n",
    "f_lipid = lipid.iloc[:,6:]\n",
    "f_meta = meta.iloc[:,6:]\n",
    "f_agender = rna.iloc[:,1:3]\n",
    "label = rna.iloc[:,10]"
   ]
  },
  {
   "cell_type": "code",
   "execution_count": 22,
   "id": "54737860-1b4f-4f3c-b52a-d599946c16a6",
   "metadata": {},
   "outputs": [
    {
     "data": {
      "text/html": [
       "<div>\n",
       "<style scoped>\n",
       "    .dataframe tbody tr th:only-of-type {\n",
       "        vertical-align: middle;\n",
       "    }\n",
       "\n",
       "    .dataframe tbody tr th {\n",
       "        vertical-align: top;\n",
       "    }\n",
       "\n",
       "    .dataframe thead th {\n",
       "        text-align: right;\n",
       "    }\n",
       "</style>\n",
       "<table border=\"1\" class=\"dataframe\">\n",
       "  <thead>\n",
       "    <tr style=\"text-align: right;\">\n",
       "      <th></th>\n",
       "      <th>Batch</th>\n",
       "      <th>sVNT_M1_WT_RBD</th>\n",
       "    </tr>\n",
       "  </thead>\n",
       "  <tbody>\n",
       "    <tr>\n",
       "      <th>0</th>\n",
       "      <td>Batch01</td>\n",
       "      <td>0</td>\n",
       "    </tr>\n",
       "    <tr>\n",
       "      <th>1</th>\n",
       "      <td>Batch02</td>\n",
       "      <td>0</td>\n",
       "    </tr>\n",
       "    <tr>\n",
       "      <th>2</th>\n",
       "      <td>Batch02</td>\n",
       "      <td>0</td>\n",
       "    </tr>\n",
       "    <tr>\n",
       "      <th>3</th>\n",
       "      <td>Batch01</td>\n",
       "      <td>0</td>\n",
       "    </tr>\n",
       "    <tr>\n",
       "      <th>4</th>\n",
       "      <td>Batch02</td>\n",
       "      <td>0</td>\n",
       "    </tr>\n",
       "    <tr>\n",
       "      <th>...</th>\n",
       "      <td>...</td>\n",
       "      <td>...</td>\n",
       "    </tr>\n",
       "    <tr>\n",
       "      <th>245</th>\n",
       "      <td>Batch02</td>\n",
       "      <td>0</td>\n",
       "    </tr>\n",
       "    <tr>\n",
       "      <th>246</th>\n",
       "      <td>Batch01</td>\n",
       "      <td>1</td>\n",
       "    </tr>\n",
       "    <tr>\n",
       "      <th>247</th>\n",
       "      <td>Batch01</td>\n",
       "      <td>0</td>\n",
       "    </tr>\n",
       "    <tr>\n",
       "      <th>248</th>\n",
       "      <td>Batch01</td>\n",
       "      <td>1</td>\n",
       "    </tr>\n",
       "    <tr>\n",
       "      <th>249</th>\n",
       "      <td>Batch01</td>\n",
       "      <td>0</td>\n",
       "    </tr>\n",
       "  </tbody>\n",
       "</table>\n",
       "<p>250 rows × 2 columns</p>\n",
       "</div>"
      ],
      "text/plain": [
       "       Batch  sVNT_M1_WT_RBD\n",
       "0    Batch01               0\n",
       "1    Batch02               0\n",
       "2    Batch02               0\n",
       "3    Batch01               0\n",
       "4    Batch02               0\n",
       "..       ...             ...\n",
       "245  Batch02               0\n",
       "246  Batch01               1\n",
       "247  Batch01               0\n",
       "248  Batch01               1\n",
       "249  Batch01               0\n",
       "\n",
       "[250 rows x 2 columns]"
      ]
     },
     "execution_count": 22,
     "metadata": {},
     "output_type": "execute_result"
    }
   ],
   "source": [
    "rna[['Batch','sVNT_M1_WT_RBD']]"
   ]
  },
  {
   "cell_type": "code",
   "execution_count": 23,
   "id": "fb9c0dd9-71d6-4bae-8155-2cf3f8043d13",
   "metadata": {},
   "outputs": [
    {
     "data": {
      "text/plain": [
       "0      0\n",
       "1      0\n",
       "2      0\n",
       "3      0\n",
       "4      0\n",
       "      ..\n",
       "245    0\n",
       "246    1\n",
       "247    0\n",
       "248    1\n",
       "249    0\n",
       "Name: sVNT_M1_WT_RBD, Length: 250, dtype: int64"
      ]
     },
     "execution_count": 23,
     "metadata": {},
     "output_type": "execute_result"
    }
   ],
   "source": [
    "label"
   ]
  },
  {
   "cell_type": "code",
   "execution_count": 24,
   "id": "80e23ed4-5083-4a21-8514-efe3dab0e4af",
   "metadata": {},
   "outputs": [
    {
     "data": {
      "text/plain": [
       "0      97.506449\n",
       "1      96.846125\n",
       "2      95.959098\n",
       "3      97.463457\n",
       "4      95.663422\n",
       "         ...    \n",
       "245    96.647757\n",
       "246    92.986075\n",
       "247    96.596184\n",
       "248    84.012378\n",
       "249    97.116645\n",
       "Name: sVNT_M1_WT_RBD_10_times_dilution, Length: 250, dtype: float64"
      ]
     },
     "execution_count": 24,
     "metadata": {},
     "output_type": "execute_result"
    }
   ],
   "source": [
    "rna['sVNT_M1_WT_RBD_10_times_dilution']"
   ]
  },
  {
   "cell_type": "code",
   "execution_count": 25,
   "id": "4657c4bf-2a22-47df-82ac-a1ce1dcbef5b",
   "metadata": {},
   "outputs": [],
   "source": [
    "cross_table = pd.crosstab(rna['sVNT_M1_WT_RBD'], rna['Batch'])"
   ]
  },
  {
   "cell_type": "code",
   "execution_count": 26,
   "id": "6fd0a3d9-7d4f-4749-9277-b58a9e814ba6",
   "metadata": {},
   "outputs": [
    {
     "data": {
      "text/html": [
       "<div>\n",
       "<style scoped>\n",
       "    .dataframe tbody tr th:only-of-type {\n",
       "        vertical-align: middle;\n",
       "    }\n",
       "\n",
       "    .dataframe tbody tr th {\n",
       "        vertical-align: top;\n",
       "    }\n",
       "\n",
       "    .dataframe thead th {\n",
       "        text-align: right;\n",
       "    }\n",
       "</style>\n",
       "<table border=\"1\" class=\"dataframe\">\n",
       "  <thead>\n",
       "    <tr style=\"text-align: right;\">\n",
       "      <th>Batch</th>\n",
       "      <th>Batch01</th>\n",
       "      <th>Batch02</th>\n",
       "    </tr>\n",
       "    <tr>\n",
       "      <th>sVNT_M1_WT_RBD</th>\n",
       "      <th></th>\n",
       "      <th></th>\n",
       "    </tr>\n",
       "  </thead>\n",
       "  <tbody>\n",
       "    <tr>\n",
       "      <th>0</th>\n",
       "      <td>89</td>\n",
       "      <td>98</td>\n",
       "    </tr>\n",
       "    <tr>\n",
       "      <th>1</th>\n",
       "      <td>32</td>\n",
       "      <td>31</td>\n",
       "    </tr>\n",
       "  </tbody>\n",
       "</table>\n",
       "</div>"
      ],
      "text/plain": [
       "Batch           Batch01  Batch02\n",
       "sVNT_M1_WT_RBD                  \n",
       "0                    89       98\n",
       "1                    32       31"
      ]
     },
     "execution_count": 26,
     "metadata": {},
     "output_type": "execute_result"
    }
   ],
   "source": [
    "cross_table"
   ]
  },
  {
   "cell_type": "code",
   "execution_count": 33,
   "id": "22c52040-feb4-4559-a0bc-352235075d6c",
   "metadata": {},
   "outputs": [],
   "source": [
    "combine = pd.concat([f_rna, f_lipid, f_meta], axis=1) \n",
    "combine = pd.concat([f_agender, combine], axis=1)"
   ]
  },
  {
   "cell_type": "code",
   "execution_count": 34,
   "id": "2a67e47b-e2c9-49be-b7a4-52e6b8b649b5",
   "metadata": {},
   "outputs": [],
   "source": [
    "bl = (\n",
    "    rna['Batch'].astype(str).str.cat(rna['sVNT_M1_WT_RBD'].astype(str), sep='_')\n",
    ")"
   ]
  },
  {
   "cell_type": "code",
   "execution_count": 35,
   "id": "e36d69a7-f689-41c5-b619-5dd5bb66d1cd",
   "metadata": {},
   "outputs": [],
   "source": [
    "from sklearn.model_selection import train_test_split\n",
    "X_train, X_test, y_train, y_test = train_test_split(combine, label, test_size=0.2,stratify=bl,random_state=42)"
   ]
  },
  {
   "cell_type": "code",
   "execution_count": 36,
   "id": "a5aa1700-f765-450f-8d36-cf9c2374e313",
   "metadata": {},
   "outputs": [
    {
     "data": {
      "text/plain": [
       "((200, 44946), (50, 44946), (200,), (50,), (250,))"
      ]
     },
     "execution_count": 36,
     "metadata": {},
     "output_type": "execute_result"
    }
   ],
   "source": [
    "X_train.shape, X_test.shape, y_train.shape, y_test.shape,bl.shape"
   ]
  },
  {
   "cell_type": "code",
   "execution_count": 37,
   "id": "9acdf235-ff58-49d5-945e-a7eeb99d4961",
   "metadata": {},
   "outputs": [
    {
     "data": {
      "text/plain": [
       "231    Batch01_1\n",
       "106    Batch02_0\n",
       "242    Batch01_1\n",
       "83     Batch02_1\n",
       "130    Batch01_1\n",
       "         ...    \n",
       "2      Batch02_0\n",
       "218    Batch01_0\n",
       "220    Batch01_1\n",
       "113    Batch02_0\n",
       "39     Batch02_0\n",
       "Name: Batch, Length: 200, dtype: object"
      ]
     },
     "execution_count": 37,
     "metadata": {},
     "output_type": "execute_result"
    }
   ],
   "source": [
    "bl[X_train.index]"
   ]
  },
  {
   "cell_type": "code",
   "execution_count": 43,
   "id": "5ada3207-824b-48fb-9487-465b3d79a5b8",
   "metadata": {},
   "outputs": [
    {
     "name": "stderr",
     "output_type": "stream",
     "text": [
      "[Parallel(n_jobs=-1)]: Using backend LokyBackend with 32 concurrent workers.\n",
      "[Parallel(n_jobs=-1)]: Done   3 out of  10 | elapsed:  2.0min remaining:  4.7min\n",
      "[Parallel(n_jobs=-1)]: Done   5 out of  10 | elapsed:  2.0min remaining:  2.0min\n",
      "[Parallel(n_jobs=-1)]: Done   7 out of  10 | elapsed:  2.1min remaining:   52.8s\n",
      "[Parallel(n_jobs=-1)]: Done  10 out of  10 | elapsed:  2.2min finished\n"
     ]
    },
    {
     "name": "stdout",
     "output_type": "stream",
     "text": [
      "     fold                                    feature  importance\n",
      "128     0                 X439232__N.Acetylornithine    0.014773\n",
      "110     0                  ENSG00000276533.1__NA__NA    0.012662\n",
      "19      0  ENSG00000147041.12__SYTL5__protein.coding    0.012100\n",
      "53      0   ENSG00000196890.5__H2BU1__protein.coding    0.011972\n",
      "109     0                  ENSG00000276101.1__NA__NA    0.011903\n"
     ]
    }
   ],
   "source": [
    "from boruta import BorutaPy\n",
    "from sklearn.ensemble import RandomForestClassifier\n",
    "from functools import partial\n",
    "from sklearn.model_selection import StratifiedKFold\n",
    "from sklearn.feature_selection import f_classif\n",
    "from joblib import Parallel, delayed\n",
    "import pandas as pd\n",
    "\n",
    "def process_fold(train_idx, val_idx, i, X_train, y_train):\n",
    "    print(f\"Processing fold {i}\")\n",
    "    \n",
    "    X_fold_train, y_fold_train = X_train.iloc[train_idx], y_train.iloc[train_idx]\n",
    "    \n",
    "    F_values, p_values = f_classif(X_fold_train, y_fold_train)\n",
    "    significant_features_mask = p_values < 0.1\n",
    "    significant_features = X_fold_train.columns[significant_features_mask]\n",
    "    print(f\"Fold {i+1}: {len(significant_features)} significant features\")\n",
    "    X_fold_train_sig = X_fold_train[significant_features]\n",
    "\n",
    "    estimator = RandomForestClassifier(random_state=42, n_jobs=-1)\n",
    "    \n",
    "\n",
    "    boruta_selector = BorutaPy(\n",
    "        estimator=estimator,\n",
    "        n_estimators='auto',  \n",
    "        verbose=0,           \n",
    "        random_state=42,\n",
    "        max_iter=100,       \n",
    "        perc=95,alpha=0.05            \n",
    "    )\n",
    "    \n",
    "\n",
    "    boruta_selector.fit(X_fold_train_sig.values, y_fold_train.values)\n",
    "    \n",
    "\n",
    "    selected_features_mask = boruta_selector.support_\n",
    "    selected_features = significant_features[selected_features_mask]\n",
    "    \n",
    "\n",
    "    estimator.fit(X_fold_train_sig[selected_features], y_fold_train)\n",
    "    importances = estimator.feature_importances_\n",
    "    \n",
    "\n",
    "    return [\n",
    "        {\n",
    "            'fold': i,\n",
    "            'feature': feature,\n",
    "            'importance': importance,\n",
    "        }\n",
    "        for feature, importance in zip(selected_features, importances)\n",
    "    ]\n",
    "\n",
    "\n",
    "def main():\n",
    "\n",
    "    cv = StratifiedKFold(n_splits=10, shuffle=True, random_state=42)\n",
    "    \n",
    "\n",
    "    results = Parallel(n_jobs=-1, verbose=10)(\n",
    "        delayed(partial(process_fold, X_train=X_train, y_train=y_train))(train_idx, val_idx, i)\n",
    "        for i, (train_idx, val_idx) in enumerate(cv.split(X_train, bl[X_train.index]))\n",
    "    )\n",
    "    \n",
    "\n",
    "    results = [item for sublist in results for item in sublist]\n",
    "    \n",
    "\n",
    "    results_df = pd.DataFrame(results)\n",
    "    \n",
    "\n",
    "    results_df = results_df.sort_values(['fold', 'importance'], ascending=[True, False])\n",
    "    \n",
    "\n",
    "    print(results_df.head())\n",
    "    return results_df\n",
    "\n",
    "if __name__ == '__main__':\n",
    "    all_feature_counts = main()"
   ]
  },
  {
   "cell_type": "code",
   "execution_count": 44,
   "id": "174102ab-ab47-4249-9e8e-11b71c06cc6d",
   "metadata": {},
   "outputs": [],
   "source": [
    "feature_counts = all_feature_counts['feature'].value_counts()\n",
    "common_features = feature_counts[feature_counts >= 8].index\n",
    "df_filtered = all_feature_counts[all_feature_counts['feature'].isin(common_features)]\n",
    "\n",
    "stats = df_filtered.groupby('feature')['importance'].agg(['sum', 'mean', 'count'])\n",
    "stats = stats.sort_values('count', ascending=False)\n",
    "\n",
    "top_feature = stats.index[:3]\n",
    "feature_selected = list(top_feature)"
   ]
  },
  {
   "cell_type": "code",
   "execution_count": 46,
   "id": "82259516-f8e3-4ff3-ba25-6f066474e891",
   "metadata": {},
   "outputs": [
    {
     "data": {
      "text/plain": [
       "['X439232__N.Acetylornithine',\n",
       " 'ENSG00000130270.16__ATP8B3__protein.coding',\n",
       " 'ENSG00000163421.9__PROK2__protein.coding']"
      ]
     },
     "execution_count": 46,
     "metadata": {},
     "output_type": "execute_result"
    }
   ],
   "source": [
    "feature_selected"
   ]
  },
  {
   "cell_type": "code",
   "execution_count": 51,
   "id": "9262ce91-ef6f-46ec-97f1-3776723dc03b",
   "metadata": {},
   "outputs": [
    {
     "name": "stdout",
     "output_type": "stream",
     "text": [
      "0.72\n"
     ]
    }
   ],
   "source": [
    "# Prepare training and test sets\n",
    "Xtrain = X_train[['Age', 'Gender'] + feature_selected]\n",
    "Xtest = X_test[['Age', 'Gender'] + feature_selected]\n",
    "\n",
    "# Initialize and train Random Forest model\n",
    "rf = RandomForestClassifier(random_state=42)\n",
    "rf.fit(Xtrain, y_train)\n",
    "\n",
    "# Predict probabilities for the positive class\n",
    "y_pred_proba = rf.predict_proba(Xtest)[:, 1]\n",
    "\n",
    "# Calculate AUC\n",
    "auc = roc_auc_score(y_test, y_pred_proba)\n",
    "\n",
    "print(f'{auc:.2f}')"
   ]
  },
  {
   "cell_type": "code",
   "execution_count": null,
   "id": "aab8236f-8679-4ce2-b091-7e86bf567a3e",
   "metadata": {},
   "outputs": [],
   "source": []
  }
 ],
 "metadata": {
  "kernelspec": {
   "display_name": "pytorch",
   "language": "python",
   "name": "pytorch"
  },
  "language_info": {
   "codemirror_mode": {
    "name": "ipython",
    "version": 3
   },
   "file_extension": ".py",
   "mimetype": "text/x-python",
   "name": "python",
   "nbconvert_exporter": "python",
   "pygments_lexer": "ipython3",
   "version": "3.11.5"
  }
 },
 "nbformat": 4,
 "nbformat_minor": 5
}
