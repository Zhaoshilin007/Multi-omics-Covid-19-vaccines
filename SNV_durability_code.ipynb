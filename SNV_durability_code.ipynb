{
 "cells": [
  {
   "cell_type": "code",
   "execution_count": 6,
   "id": "d8619d81",
   "metadata": {},
   "outputs": [],
   "source": [
    "from sklearn.feature_selection import SelectFdr, f_classif\n",
    "import pandas as pd\n",
    "import numpy as np\n",
    "from sklearn.preprocessing import MinMaxScaler\n",
    "from scipy.stats import wilcoxon\n",
    "from scipy.stats import ranksums\n",
    "from statsmodels.stats.multitest import fdrcorrection\n",
    "import pandas as pd\n",
    "from sklearn.preprocessing import StandardScaler\n",
    "from sklearn.feature_selection import SelectKBest, f_classif,f_regression\n",
    "from sklearn.linear_model import LogisticRegression\n",
    "from sklearn.pipeline import Pipeline\n",
    "from sklearn.model_selection import RandomizedSearchCV\n",
    "from sklearn.svm import SVC\n",
    "from sklearn.metrics import roc_curve, auc, mean_squared_error, precision_score, jaccard_score, fowlkes_mallows_score, roc_auc_score\n",
    "from sklearn.ensemble import RandomForestClassifier\n",
    "from sklearn.base import BaseEstimator, TransformerMixin, RegressorMixin, clone\n",
    "import numpy as np\n",
    "from sklearn.ensemble import RandomForestRegressor\n",
    "from sklearn.metrics import mean_squared_error,mean_absolute_error,r2_score\n",
    "from boruta import BorutaPy\n",
    "from sklearn.model_selection import StratifiedKFold, RepeatedStratifiedKFold\n",
    "from sklearn.model_selection import train_test_split"
   ]
  },
  {
   "cell_type": "code",
   "execution_count": 10,
   "id": "4b8c37a0-0fcb-4166-8d13-54049695fdd3",
   "metadata": {},
   "outputs": [],
   "source": [
    "rna = pd.read_csv('D:/multiomics/2025june/rna_rb.csv', sep=',')\n",
    "lipid = pd.read_csv('D:/multiomics/2025june/lipid_rb.csv', sep=',')\n",
    "meta = pd.read_csv('D:/multiomics/2025june/meta_rb.csv', sep=',')"
   ]
  },
  {
   "cell_type": "code",
   "execution_count": 11,
   "id": "3fc08d1d-04be-4d5a-bd1d-87e1ce683106",
   "metadata": {},
   "outputs": [],
   "source": [
    "sets_to_intersect = [\n",
    "    set(rna['id']),\n",
    "    set(lipid['id']),\n",
    "    set(meta['id'])\n",
    "]\n",
    "\n",
    "common_ids = set.intersection(*sets_to_intersect)\n",
    "\n",
    "sorted_common_ids = sorted(common_ids)\n",
    "\n",
    "meta = meta[meta['id'].isin(common_ids)].set_index('id').loc[sorted_common_ids].reset_index()\n",
    "lipid = lipid[lipid['id'].isin(common_ids)].set_index('id').loc[sorted_common_ids].reset_index()\n",
    "rna = rna[rna['id'].isin(common_ids)].set_index('id').loc[sorted_common_ids].reset_index()"
   ]
  },
  {
   "cell_type": "code",
   "execution_count": 12,
   "id": "ea3372a3-a8d9-4b88-9d9c-a69d57b47d08",
   "metadata": {},
   "outputs": [
    {
     "data": {
      "text/plain": [
       "(156, 156)"
      ]
     },
     "execution_count": 12,
     "metadata": {},
     "output_type": "execute_result"
    }
   ],
   "source": [
    "sum(rna['id']==meta['id']),sum(rna['id']==lipid['id'])"
   ]
  },
  {
   "cell_type": "code",
   "execution_count": 13,
   "id": "0f681155-cccf-4296-bd91-710a01041f45",
   "metadata": {},
   "outputs": [],
   "source": [
    "f_rna = rna.iloc[:,11:]\n",
    "f_lipid = lipid.iloc[:,6:]\n",
    "f_meta = meta.iloc[:,6:]\n",
    "f_agender = rna.iloc[:,1:3]"
   ]
  },
  {
   "cell_type": "code",
   "execution_count": 14,
   "id": "fb1ba0c8-95d6-4514-bac7-b782790433fb",
   "metadata": {},
   "outputs": [],
   "source": [
    "du = (rna['sVNT_M1_WT_RBD_10_times_dilution']-rna['sVNT_M6_WT_RBD_10_times_dilution'])/rna['sVNT_M1_WT_RBD_10_times_dilution']"
   ]
  },
  {
   "cell_type": "code",
   "execution_count": 16,
   "id": "563f021c-cb19-4422-a0c3-23f1acb9c912",
   "metadata": {},
   "outputs": [],
   "source": [
    "label = (du<=du.quantile(0.25))*1"
   ]
  },
  {
   "cell_type": "code",
   "execution_count": 17,
   "id": "9c86d04f-404e-4bbb-968e-be33e66bf424",
   "metadata": {},
   "outputs": [],
   "source": [
    "batch_label = pd.concat([rna[['id','Age','Gender','Batch']], label], axis=1) \n",
    "batch_label = batch_label.rename(columns={0: 'label'})"
   ]
  },
  {
   "cell_type": "code",
   "execution_count": 18,
   "id": "d32fb8ff-0cef-4d97-ab0a-2923ca6314c7",
   "metadata": {},
   "outputs": [],
   "source": [
    "batch_label['batch_label'] = (\n",
    "    batch_label['Batch'].astype(str).str.cat(batch_label['label'].astype(str), sep='_')\n",
    ")"
   ]
  },
  {
   "cell_type": "code",
   "execution_count": 19,
   "id": "c38140a6-ad85-4e1d-8c66-ce6bd3a65916",
   "metadata": {},
   "outputs": [],
   "source": [
    "cross_table = pd.crosstab(batch_label['label'], batch_label['Batch'])"
   ]
  },
  {
   "cell_type": "code",
   "execution_count": 20,
   "id": "a08480c8-b79e-4af4-a332-256ee4f665be",
   "metadata": {},
   "outputs": [
    {
     "data": {
      "text/html": [
       "<div>\n",
       "<style scoped>\n",
       "    .dataframe tbody tr th:only-of-type {\n",
       "        vertical-align: middle;\n",
       "    }\n",
       "\n",
       "    .dataframe tbody tr th {\n",
       "        vertical-align: top;\n",
       "    }\n",
       "\n",
       "    .dataframe thead th {\n",
       "        text-align: right;\n",
       "    }\n",
       "</style>\n",
       "<table border=\"1\" class=\"dataframe\">\n",
       "  <thead>\n",
       "    <tr style=\"text-align: right;\">\n",
       "      <th>Batch</th>\n",
       "      <th>Batch01</th>\n",
       "      <th>Batch02</th>\n",
       "    </tr>\n",
       "    <tr>\n",
       "      <th>label</th>\n",
       "      <th></th>\n",
       "      <th></th>\n",
       "    </tr>\n",
       "  </thead>\n",
       "  <tbody>\n",
       "    <tr>\n",
       "      <th>0</th>\n",
       "      <td>51</td>\n",
       "      <td>66</td>\n",
       "    </tr>\n",
       "    <tr>\n",
       "      <th>1</th>\n",
       "      <td>16</td>\n",
       "      <td>23</td>\n",
       "    </tr>\n",
       "  </tbody>\n",
       "</table>\n",
       "</div>"
      ],
      "text/plain": [
       "Batch  Batch01  Batch02\n",
       "label                  \n",
       "0           51       66\n",
       "1           16       23"
      ]
     },
     "execution_count": 20,
     "metadata": {},
     "output_type": "execute_result"
    }
   ],
   "source": [
    "cross_table"
   ]
  },
  {
   "cell_type": "code",
   "execution_count": 21,
   "id": "b3e94e1f-2668-4c40-b66f-3a796710efec",
   "metadata": {},
   "outputs": [],
   "source": [
    "combine = pd.concat([f_rna, f_lipid, f_meta], axis=1) \n",
    "combine = pd.concat([f_agender, combine], axis=1)"
   ]
  },
  {
   "cell_type": "code",
   "execution_count": 22,
   "id": "bd7e20ac-0abd-4d66-807e-d579146df4dc",
   "metadata": {},
   "outputs": [],
   "source": [
    "X_train, X_test, y_train, y_test = train_test_split(combine, label, test_size=0.2,stratify=batch_label['batch_label'],random_state=42)"
   ]
  },
  {
   "cell_type": "code",
   "execution_count": 36,
   "id": "5816c4f7-9d0f-42b4-a38d-0ccdb4fd35e2",
   "metadata": {},
   "outputs": [
    {
     "name": "stderr",
     "output_type": "stream",
     "text": [
      "[Parallel(n_jobs=-1)]: Using backend LokyBackend with 32 concurrent workers.\n",
      "[Parallel(n_jobs=-1)]: Done   3 out of  10 | elapsed:  2.3min remaining:  5.4min\n",
      "[Parallel(n_jobs=-1)]: Done   5 out of  10 | elapsed:  2.3min remaining:  2.3min\n",
      "[Parallel(n_jobs=-1)]: Done   7 out of  10 | elapsed:  2.4min remaining:  1.0min\n"
     ]
    },
    {
     "name": "stdout",
     "output_type": "stream",
     "text": [
      "     fold                                       feature  importance\n",
      "119     0      ENSG00000217930.8__PAM16__protein.coding    0.021552\n",
      "82      0  ENSG00000172922.11__RNASEH2C__protein.coding    0.014634\n",
      "162     0                     ENSG00000267547.1__NA__NA    0.014561\n",
      "158     0                     ENSG00000261396.1__NA__NA    0.012551\n",
      "12      0     ENSG00000101849.18__TBL1X__protein.coding    0.011427\n"
     ]
    },
    {
     "name": "stderr",
     "output_type": "stream",
     "text": [
      "[Parallel(n_jobs=-1)]: Done  10 out of  10 | elapsed:  2.5min finished\n"
     ]
    }
   ],
   "source": [
    "from boruta import BorutaPy\n",
    "from sklearn.ensemble import RandomForestClassifier\n",
    "from functools import partial\n",
    "from sklearn.model_selection import StratifiedKFold\n",
    "from sklearn.feature_selection import f_classif\n",
    "from joblib import Parallel, delayed\n",
    "import pandas as pd\n",
    "\n",
    "def process_fold(train_idx, val_idx, i, X_train, y_train):\n",
    "    print(f\"Processing fold {i}\")\n",
    "    \n",
    "    X_fold_train, y_fold_train = X_train.iloc[train_idx], y_train.iloc[train_idx]\n",
    "    \n",
    "    F_values, p_values = f_classif(X_fold_train, y_fold_train)\n",
    "    significant_features_mask = p_values < 0.05\n",
    "    significant_features = X_fold_train.columns[significant_features_mask]\n",
    "    print(f\"Fold {i+1}: {len(significant_features)} significant features\")\n",
    "    X_fold_train_sig = X_fold_train[significant_features]\n",
    "\n",
    "    estimator = RandomForestClassifier(random_state=42, n_jobs=-1)\n",
    "    \n",
    "    boruta_selector = BorutaPy(\n",
    "        estimator=estimator,\n",
    "        n_estimators='auto',  \n",
    "        verbose=0,           \n",
    "        random_state=42,\n",
    "        max_iter=100,       \n",
    "        perc=90,alpha=0.01            \n",
    "    )\n",
    "    \n",
    "    boruta_selector.fit(X_fold_train_sig.values, y_fold_train.values)\n",
    "    \n",
    "    selected_features_mask = boruta_selector.support_\n",
    "    selected_features = significant_features[selected_features_mask]\n",
    "    \n",
    "    estimator.fit(X_fold_train_sig[selected_features], y_fold_train)\n",
    "    importances = estimator.feature_importances_\n",
    "\n",
    "    return [\n",
    "        {\n",
    "            'fold': i,\n",
    "            'feature': feature,\n",
    "            'importance': importance,\n",
    "        }\n",
    "        for feature, importance in zip(selected_features, importances)\n",
    "    ]\n",
    "\n",
    "def main():\n",
    "\n",
    "    cv = StratifiedKFold(n_splits=10, shuffle=True, random_state=42)\n",
    "    \n",
    "    results = Parallel(n_jobs=-1, verbose=10)(\n",
    "        delayed(partial(process_fold, X_train=X_train, y_train=y_train))(train_idx, val_idx, i)\n",
    "        for i, (train_idx, val_idx) in enumerate(cv.split(X_train, batch_label['batch_label'][X_train.index]))\n",
    "    )\n",
    "    \n",
    "    results = [item for sublist in results for item in sublist]\n",
    "    \n",
    "    results_df = pd.DataFrame(results)\n",
    "    \n",
    "    results_df = results_df.sort_values(['fold', 'importance'], ascending=[True, False])\n",
    "    \n",
    "    print(results_df.head())\n",
    "    return results_df\n",
    "\n",
    "if __name__ == '__main__':\n",
    "    all_feature_counts = main()"
   ]
  },
  {
   "cell_type": "code",
   "execution_count": 37,
   "id": "df75502d-0796-4037-b44d-d359716a01f1",
   "metadata": {},
   "outputs": [],
   "source": [
    "feature_counts = all_feature_counts['feature'].value_counts()\n",
    "common_features = feature_counts[feature_counts >= 7].index\n",
    "df_filtered = all_feature_counts[all_feature_counts['feature'].isin(common_features)]\n",
    "\n",
    "stats = df_filtered.groupby('feature')['importance'].agg(['sum', 'mean', 'count'])\n",
    "stats = stats.sort_values('count', ascending=False)\n",
    "\n",
    "top_feature = stats.index[:3]\n",
    "feature_selected = list(top_feature)"
   ]
  },
  {
   "cell_type": "code",
   "execution_count": 38,
   "id": "819b7b41-825a-4e21-adc8-c5715c2dabd3",
   "metadata": {},
   "outputs": [
    {
     "data": {
      "text/plain": [
       "['ENSG00000217930.8__PAM16__protein.coding',\n",
       " 'ENSG00000134245.18__WNT2B__protein.coding',\n",
       " 'PC.38.6e..rep..rep..rep.']"
      ]
     },
     "execution_count": 38,
     "metadata": {},
     "output_type": "execute_result"
    }
   ],
   "source": [
    "feature_selected"
   ]
  },
  {
   "cell_type": "code",
   "execution_count": 44,
   "id": "a69e8740-35d1-4a3b-9627-eca724cf0af1",
   "metadata": {},
   "outputs": [
    {
     "name": "stdout",
     "output_type": "stream",
     "text": [
      "0.65\n"
     ]
    }
   ],
   "source": [
    "# Prepare training and test sets\n",
    "Xtrain = X_train[['Age', 'Gender'] + feature_selected]\n",
    "Xtest = X_test[['Age', 'Gender'] + feature_selected]\n",
    "\n",
    "# Initialize and train Random Forest model\n",
    "rf = RandomForestClassifier(random_state=42)\n",
    "rf.fit(Xtrain, y_train)\n",
    "\n",
    "# Predict probabilities for the positive class\n",
    "y_pred_proba = rf.predict_proba(Xtest)[:, 1]\n",
    "\n",
    "# Calculate AUC\n",
    "auc = roc_auc_score(y_test, y_pred_proba)\n",
    "\n",
    "print(f'{auc:.2f}')"
   ]
  },
  {
   "cell_type": "code",
   "execution_count": null,
   "id": "c6578d1d-5109-48f7-b702-bbb83c519a84",
   "metadata": {},
   "outputs": [],
   "source": []
  }
 ],
 "metadata": {
  "kernelspec": {
   "display_name": "pytorch",
   "language": "python",
   "name": "pytorch"
  },
  "language_info": {
   "codemirror_mode": {
    "name": "ipython",
    "version": 3
   },
   "file_extension": ".py",
   "mimetype": "text/x-python",
   "name": "python",
   "nbconvert_exporter": "python",
   "pygments_lexer": "ipython3",
   "version": "3.11.5"
  }
 },
 "nbformat": 4,
 "nbformat_minor": 5
}
