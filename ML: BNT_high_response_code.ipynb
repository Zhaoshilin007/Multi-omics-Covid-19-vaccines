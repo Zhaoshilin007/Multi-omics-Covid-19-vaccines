{
 "cells": [
  {
   "cell_type": "code",
   "execution_count": 1,
   "id": "2ba73285",
   "metadata": {},
   "outputs": [],
   "source": [
    "from sklearn.feature_selection import SelectFdr, f_classif\n",
    "import pandas as pd\n",
    "import numpy as np\n",
    "from sklearn.preprocessing import MinMaxScaler\n",
    "from scipy.stats import wilcoxon\n",
    "from scipy.stats import ranksums\n",
    "from statsmodels.stats.multitest import fdrcorrection\n",
    "import pandas as pd\n",
    "from sklearn.preprocessing import StandardScaler\n",
    "from sklearn.feature_selection import SelectKBest, f_classif,f_regression\n",
    "from sklearn.linear_model import LogisticRegression\n",
    "from sklearn.pipeline import Pipeline\n",
    "from sklearn.model_selection import RandomizedSearchCV\n",
    "from sklearn.svm import SVC\n",
    "from sklearn.metrics import roc_curve, auc, mean_squared_error, precision_score, jaccard_score, fowlkes_mallows_score, roc_auc_score\n",
    "from sklearn.ensemble import RandomForestClassifier\n",
    "from sklearn.base import BaseEstimator, TransformerMixin, RegressorMixin, clone\n",
    "import numpy as np\n",
    "from sklearn.ensemble import RandomForestRegressor\n",
    "from sklearn.metrics import mean_squared_error,mean_absolute_error,r2_score\n",
    "from boruta import BorutaPy\n",
    "from sklearn.model_selection import StratifiedKFold, RepeatedStratifiedKFold\n",
    "import numpy as np\n",
    "import pandas as pd\n",
    "from sklearn.ensemble import RandomForestClassifier\n",
    "from boruta import BorutaPy\n",
    "from sklearn.model_selection import train_test_split"
   ]
  },
  {
   "cell_type": "code",
   "execution_count": 7,
   "id": "85a32d43-3577-4ca0-8c45-4e57eb6d4185",
   "metadata": {},
   "outputs": [],
   "source": [
    "rna = pd.read_csv('D:/multiomics/2025june/rna_rb.csv', sep=',')\n",
    "lipid = pd.read_csv('D:/multiomics/2025june/lipid_rb.csv', sep=',')\n",
    "meta = pd.read_csv('D:/multiomics/2025june/meta_rb.csv', sep=',')"
   ]
  },
  {
   "cell_type": "code",
   "execution_count": 8,
   "id": "ee66ce54-7e32-4b0f-8004-f395af298451",
   "metadata": {},
   "outputs": [],
   "source": [
    "sets_to_intersect = [\n",
    "    set(rna['id']),\n",
    "    set(lipid['id']),\n",
    "    set(meta['id'])\n",
    "]\n",
    "\n",
    "\n",
    "common_ids = set.intersection(*sets_to_intersect)\n",
    "\n",
    "\n",
    "sorted_common_ids = sorted(common_ids)\n",
    "\n",
    "meta = meta[meta['id'].isin(common_ids)].set_index('id').loc[sorted_common_ids].reset_index()\n",
    "lipid = lipid[lipid['id'].isin(common_ids)].set_index('id').loc[sorted_common_ids].reset_index()\n",
    "rna = rna[rna['id'].isin(common_ids)].set_index('id').loc[sorted_common_ids].reset_index()"
   ]
  },
  {
   "cell_type": "code",
   "execution_count": 9,
   "id": "8ce6dc8c-5628-4a7f-8ae2-861a851d3361",
   "metadata": {},
   "outputs": [
    {
     "data": {
      "text/plain": [
       "(250, 250)"
      ]
     },
     "execution_count": 9,
     "metadata": {},
     "output_type": "execute_result"
    }
   ],
   "source": [
    "sum(rna['id']==meta['id']),sum(rna['id']==lipid['id'])"
   ]
  },
  {
   "cell_type": "code",
   "execution_count": 10,
   "id": "a464cd85",
   "metadata": {},
   "outputs": [],
   "source": [
    "def get_quantile(X_train, column_name,new_column_name,a,b,position):\n",
    "\n",
    "    percentile_a = X_train[column_name].quantile(a)\n",
    "    percentile_b = X_train[column_name].quantile(b)\n",
    "\n",
    "\n",
    "    X_train[new_column_name] = 0\n",
    "    X_train.loc[X_train[column_name] >= percentile_a, new_column_name] = 1\n",
    "\n",
    "    column_to_move = new_column_name\n",
    "    target_column = position\n",
    "\n",
    "    column = X_train.pop(column_to_move)\n",
    "    X_train.insert(target_column, column_to_move, column)\n",
    "    \n",
    "    return X_train"
   ]
  },
  {
   "cell_type": "code",
   "execution_count": 17,
   "id": "d27617c2",
   "metadata": {},
   "outputs": [
    {
     "name": "stderr",
     "output_type": "stream",
     "text": [
      "C:\\Users\\win11\\AppData\\Local\\Temp\\ipykernel_110328\\343122402.py:14: PerformanceWarning: DataFrame is highly fragmented.  This is usually the result of calling `frame.insert` many times, which has poor performance.  Consider joining all columns at once using pd.concat(axis=1) instead. To get a de-fragmented frame, use `newframe = frame.copy()`\n",
      "  X_train.insert(target_column, column_to_move, column)\n"
     ]
    }
   ],
   "source": [
    "rna = get_quantile(rna, 'sVNT_M1_WT_RBD_10_times_dilution','sVNT_M1_WT_RBD',0.75,0,10)\n",
    "meta = meta.reset_index(drop=True)\n",
    "lipid = lipid.reset_index(drop=True)\n",
    "rna = rna.reset_index(drop=True)"
   ]
  },
  {
   "cell_type": "code",
   "execution_count": 18,
   "id": "e40c7e74",
   "metadata": {},
   "outputs": [],
   "source": [
    "import seaborn as sns\n",
    "import matplotlib.pyplot as plt"
   ]
  },
  {
   "cell_type": "code",
   "execution_count": 21,
   "id": "a9b0d500",
   "metadata": {},
   "outputs": [
    {
     "data": {
      "image/png": "[encoded data removed]",
      "text/plain": [
       "<Figure size 640x480 with 1 Axes>"
      ]
     },
     "metadata": {},
     "output_type": "display_data"
    }
   ],
   "source": [
    "df_sorted = rna.sort_values(by= 'sVNT_M1_WT_RBD_10_times_dilution', ascending=False)\n",
    "\n",
    "top_25_percent_index = int(len(df_sorted) * 0.25)\n",
    "top_25_values = df_sorted.iloc[:top_25_percent_index]\n",
    "\n",
    "plt.hist(rna[ 'sVNT_M1_WT_RBD_10_times_dilution'], bins=50, color='skyblue', edgecolor='black') \n",
    "plt.xlabel('sVNT') \n",
    "plt.ylabel('Frequency')  \n",
    "\n",
    "\n",
    "plt.axvline(x=top_25_values.iloc[-1]['sVNT_M1_WT_RBD_10_times_dilution'], color='red', linestyle='--', label='Top 25% Boundary')\n",
    "plt.legend()  \n",
    "plt.show()  "
   ]
  },
  {
   "cell_type": "code",
   "execution_count": 26,
   "id": "1529c8f6",
   "metadata": {},
   "outputs": [],
   "source": [
    "f_rna = rna.iloc[:,14:]\n",
    "f_lipid = lipid.iloc[:,6:]\n",
    "f_meta = meta.iloc[:,6:]\n",
    "f_agender = rna.iloc[:,1:3]\n",
    "label = rna.iloc[:,10]"
   ]
  },
  {
   "cell_type": "code",
   "execution_count": 28,
   "id": "9f2e2288-3f8a-46da-b50a-adb3f23d2e80",
   "metadata": {},
   "outputs": [
    {
     "data": {
      "text/html": [
       "<div>\n",
       "<style scoped>\n",
       "    .dataframe tbody tr th:only-of-type {\n",
       "        vertical-align: middle;\n",
       "    }\n",
       "\n",
       "    .dataframe tbody tr th {\n",
       "        vertical-align: top;\n",
       "    }\n",
       "\n",
       "    .dataframe thead th {\n",
       "        text-align: right;\n",
       "    }\n",
       "</style>\n",
       "<table border=\"1\" class=\"dataframe\">\n",
       "  <thead>\n",
       "    <tr style=\"text-align: right;\">\n",
       "      <th></th>\n",
       "      <th>Batch</th>\n",
       "      <th>sVNT_M1_WT_RBD</th>\n",
       "    </tr>\n",
       "  </thead>\n",
       "  <tbody>\n",
       "    <tr>\n",
       "      <th>0</th>\n",
       "      <td>Batch01</td>\n",
       "      <td>1</td>\n",
       "    </tr>\n",
       "    <tr>\n",
       "      <th>1</th>\n",
       "      <td>Batch02</td>\n",
       "      <td>0</td>\n",
       "    </tr>\n",
       "    <tr>\n",
       "      <th>2</th>\n",
       "      <td>Batch02</td>\n",
       "      <td>0</td>\n",
       "    </tr>\n",
       "    <tr>\n",
       "      <th>3</th>\n",
       "      <td>Batch01</td>\n",
       "      <td>1</td>\n",
       "    </tr>\n",
       "    <tr>\n",
       "      <th>4</th>\n",
       "      <td>Batch02</td>\n",
       "      <td>0</td>\n",
       "    </tr>\n",
       "    <tr>\n",
       "      <th>...</th>\n",
       "      <td>...</td>\n",
       "      <td>...</td>\n",
       "    </tr>\n",
       "    <tr>\n",
       "      <th>245</th>\n",
       "      <td>Batch02</td>\n",
       "      <td>0</td>\n",
       "    </tr>\n",
       "    <tr>\n",
       "      <th>246</th>\n",
       "      <td>Batch01</td>\n",
       "      <td>0</td>\n",
       "    </tr>\n",
       "    <tr>\n",
       "      <th>247</th>\n",
       "      <td>Batch01</td>\n",
       "      <td>0</td>\n",
       "    </tr>\n",
       "    <tr>\n",
       "      <th>248</th>\n",
       "      <td>Batch01</td>\n",
       "      <td>0</td>\n",
       "    </tr>\n",
       "    <tr>\n",
       "      <th>249</th>\n",
       "      <td>Batch01</td>\n",
       "      <td>1</td>\n",
       "    </tr>\n",
       "  </tbody>\n",
       "</table>\n",
       "<p>250 rows × 2 columns</p>\n",
       "</div>"
      ],
      "text/plain": [
       "       Batch  sVNT_M1_WT_RBD\n",
       "0    Batch01               1\n",
       "1    Batch02               0\n",
       "2    Batch02               0\n",
       "3    Batch01               1\n",
       "4    Batch02               0\n",
       "..       ...             ...\n",
       "245  Batch02               0\n",
       "246  Batch01               0\n",
       "247  Batch01               0\n",
       "248  Batch01               0\n",
       "249  Batch01               1\n",
       "\n",
       "[250 rows x 2 columns]"
      ]
     },
     "execution_count": 28,
     "metadata": {},
     "output_type": "execute_result"
    }
   ],
   "source": [
    "rna[['Batch','sVNT_M1_WT_RBD']]"
   ]
  },
  {
   "cell_type": "code",
   "execution_count": 29,
   "id": "a3efb224-08ab-492d-a1e8-26fad7420e4c",
   "metadata": {},
   "outputs": [],
   "source": [
    "cross_table = pd.crosstab(rna['sVNT_M1_WT_RBD'], rna['Batch'])"
   ]
  },
  {
   "cell_type": "code",
   "execution_count": 30,
   "id": "75ba290a-97b7-4629-a568-1897a060ee2d",
   "metadata": {},
   "outputs": [
    {
     "data": {
      "text/html": [
       "<div>\n",
       "<style scoped>\n",
       "    .dataframe tbody tr th:only-of-type {\n",
       "        vertical-align: middle;\n",
       "    }\n",
       "\n",
       "    .dataframe tbody tr th {\n",
       "        vertical-align: top;\n",
       "    }\n",
       "\n",
       "    .dataframe thead th {\n",
       "        text-align: right;\n",
       "    }\n",
       "</style>\n",
       "<table border=\"1\" class=\"dataframe\">\n",
       "  <thead>\n",
       "    <tr style=\"text-align: right;\">\n",
       "      <th>Batch</th>\n",
       "      <th>Batch01</th>\n",
       "      <th>Batch02</th>\n",
       "    </tr>\n",
       "    <tr>\n",
       "      <th>sVNT_M1_WT_RBD</th>\n",
       "      <th></th>\n",
       "      <th></th>\n",
       "    </tr>\n",
       "  </thead>\n",
       "  <tbody>\n",
       "    <tr>\n",
       "      <th>0</th>\n",
       "      <td>86</td>\n",
       "      <td>101</td>\n",
       "    </tr>\n",
       "    <tr>\n",
       "      <th>1</th>\n",
       "      <td>35</td>\n",
       "      <td>28</td>\n",
       "    </tr>\n",
       "  </tbody>\n",
       "</table>\n",
       "</div>"
      ],
      "text/plain": [
       "Batch           Batch01  Batch02\n",
       "sVNT_M1_WT_RBD                  \n",
       "0                    86      101\n",
       "1                    35       28"
      ]
     },
     "execution_count": 30,
     "metadata": {},
     "output_type": "execute_result"
    }
   ],
   "source": [
    "cross_table"
   ]
  },
  {
   "cell_type": "code",
   "execution_count": 33,
   "id": "ee95d329-39be-41af-aa44-ea15527b099f",
   "metadata": {},
   "outputs": [],
   "source": [
    "combine = pd.concat([f_rna, f_lipid, f_meta], axis=1) \n",
    "combine = pd.concat([f_agender, combine], axis=1)"
   ]
  },
  {
   "cell_type": "code",
   "execution_count": 35,
   "id": "7a5df59e-18cc-4a74-9ff2-7c39efbcb32c",
   "metadata": {},
   "outputs": [],
   "source": [
    "bl = (\n",
    "    rna['Batch'].astype(str).str.cat(rna['sVNT_M1_WT_RBD'].astype(str), sep='_')\n",
    ")"
   ]
  },
  {
   "cell_type": "code",
   "execution_count": 36,
   "id": "a923df3c-3b86-45fd-8e41-dfa2cbd9fa7c",
   "metadata": {},
   "outputs": [],
   "source": [
    "from sklearn.model_selection import train_test_split\n",
    "X_train, X_test, y_train, y_test = train_test_split(combine, label, test_size=0.2,stratify=bl,random_state=42)"
   ]
  },
  {
   "cell_type": "code",
   "execution_count": 37,
   "id": "7ce3348c-d9e2-4010-9eeb-6dced0a4212c",
   "metadata": {},
   "outputs": [
    {
     "data": {
      "text/plain": [
       "((200, 44946), (50, 44946), (200,), (50,), (250,))"
      ]
     },
     "execution_count": 37,
     "metadata": {},
     "output_type": "execute_result"
    }
   ],
   "source": [
    "X_train.shape, X_test.shape, y_train.shape, y_test.shape,bl.shape"
   ]
  },
  {
   "cell_type": "code",
   "execution_count": 38,
   "id": "ffa9850e-8346-426a-99fd-a1f094330717",
   "metadata": {},
   "outputs": [
    {
     "data": {
      "text/plain": [
       "222    Batch01_0\n",
       "188    Batch01_0\n",
       "246    Batch01_0\n",
       "228    Batch01_0\n",
       "25     Batch02_0\n",
       "         ...    \n",
       "215    Batch01_1\n",
       "82     Batch02_0\n",
       "104    Batch01_0\n",
       "74     Batch02_0\n",
       "190    Batch01_0\n",
       "Name: Batch, Length: 200, dtype: object"
      ]
     },
     "execution_count": 38,
     "metadata": {},
     "output_type": "execute_result"
    }
   ],
   "source": [
    "bl[X_train.index]"
   ]
  },
  {
   "cell_type": "code",
   "execution_count": 44,
   "id": "68dfbc04-ad81-4b10-a448-9895f97be7b8",
   "metadata": {},
   "outputs": [
    {
     "name": "stderr",
     "output_type": "stream",
     "text": [
      "[Parallel(n_jobs=-1)]: Using backend LokyBackend with 32 concurrent workers.\n",
      "[Parallel(n_jobs=-1)]: Done   3 out of  10 | elapsed:  1.6min remaining:  3.8min\n",
      "[Parallel(n_jobs=-1)]: Done   5 out of  10 | elapsed:  1.6min remaining:  1.6min\n",
      "[Parallel(n_jobs=-1)]: Done   7 out of  10 | elapsed:  1.7min remaining:   42.8s\n",
      "[Parallel(n_jobs=-1)]: Done  10 out of  10 | elapsed:  1.7min finished\n"
     ]
    },
    {
     "name": "stdout",
     "output_type": "stream",
     "text": [
      "    fold                                  feature  importance\n",
      "36     0  ENSG00000213221.5__DNLZ__protein.coding    0.022925\n",
      "24     0   ENSG00000172965.17__MIR4435.2HG__ncRNA    0.019891\n",
      "60     0                ENSG00000268518.1__NA__NA    0.019303\n",
      "30     0  ENSG00000187193.9__MT1X__protein.coding    0.018366\n",
      "71     0                ENSG00000280466.1__NA__NA    0.018241\n"
     ]
    }
   ],
   "source": [
    "from boruta import BorutaPy\n",
    "from sklearn.ensemble import RandomForestClassifier\n",
    "from functools import partial\n",
    "from sklearn.model_selection import StratifiedKFold\n",
    "from sklearn.feature_selection import f_classif\n",
    "from joblib import Parallel, delayed\n",
    "import pandas as pd\n",
    "\n",
    "def process_fold(train_idx, val_idx, i, X_train, y_train):\n",
    "    print(f\"Processing fold {i}\")\n",
    "    \n",
    "    X_fold_train, y_fold_train = X_train.iloc[train_idx], y_train.iloc[train_idx]\n",
    "    \n",
    "    F_values, p_values = f_classif(X_fold_train, y_fold_train)\n",
    "    significant_features_mask = p_values < 0.05\n",
    "    significant_features = X_fold_train.columns[significant_features_mask]\n",
    "    print(f\"Fold {i+1}: {len(significant_features)} significant features\")\n",
    "    X_fold_train_sig = X_fold_train[significant_features]\n",
    "    estimator = RandomForestClassifier(random_state=42, n_jobs=-1)\n",
    "    \n",
    "    boruta_selector = BorutaPy(\n",
    "        estimator=estimator,\n",
    "        n_estimators='auto',  \n",
    "        verbose=0,           \n",
    "        random_state=42,\n",
    "        max_iter=100,        \n",
    "        perc=95,alpha=0.05         \n",
    "    )\n",
    "    \n",
    "\n",
    "    boruta_selector.fit(X_fold_train_sig.values, y_fold_train.values)\n",
    "    \n",
    "\n",
    "    selected_features_mask = boruta_selector.support_\n",
    "    selected_features = significant_features[selected_features_mask]\n",
    "    \n",
    "\n",
    "    estimator.fit(X_fold_train_sig[selected_features], y_fold_train)\n",
    "    importances = estimator.feature_importances_\n",
    "\n",
    "    return [\n",
    "        {\n",
    "            'fold': i,\n",
    "            'feature': feature,\n",
    "            'importance': importance,\n",
    "        }\n",
    "        for feature, importance in zip(selected_features, importances)\n",
    "    ]\n",
    "\n",
    "\n",
    "def main():\n",
    "\n",
    "    cv = StratifiedKFold(n_splits=10, shuffle=True, random_state=42)\n",
    "    \n",
    "    results = Parallel(n_jobs=-1, verbose=10)(\n",
    "        delayed(partial(process_fold, X_train=X_train, y_train=y_train))(train_idx, val_idx, i)\n",
    "        for i, (train_idx, val_idx) in enumerate(cv.split(X_train, bl[X_train.index]))\n",
    "    )\n",
    "    \n",
    "    results = [item for sublist in results for item in sublist]\n",
    "    \n",
    "    results_df = pd.DataFrame(results)\n",
    "    \n",
    "    results_df = results_df.sort_values(['fold', 'importance'], ascending=[True, False])\n",
    "    \n",
    "    print(results_df.head())\n",
    "    return results_df\n",
    "\n",
    "if __name__ == '__main__':\n",
    "    all_feature_counts = main()"
   ]
  },
  {
   "cell_type": "code",
   "execution_count": 45,
   "id": "9f08afe7-d63b-4e31-b52d-7f1d57828025",
   "metadata": {},
   "outputs": [
    {
     "data": {
      "text/html": [
       "<div>\n",
       "<style scoped>\n",
       "    .dataframe tbody tr th:only-of-type {\n",
       "        vertical-align: middle;\n",
       "    }\n",
       "\n",
       "    .dataframe tbody tr th {\n",
       "        vertical-align: top;\n",
       "    }\n",
       "\n",
       "    .dataframe thead th {\n",
       "        text-align: right;\n",
       "    }\n",
       "</style>\n",
       "<table border=\"1\" class=\"dataframe\">\n",
       "  <thead>\n",
       "    <tr style=\"text-align: right;\">\n",
       "      <th></th>\n",
       "      <th>fold</th>\n",
       "      <th>feature</th>\n",
       "      <th>importance</th>\n",
       "    </tr>\n",
       "  </thead>\n",
       "  <tbody>\n",
       "    <tr>\n",
       "      <th>36</th>\n",
       "      <td>0</td>\n",
       "      <td>ENSG00000213221.5__DNLZ__protein.coding</td>\n",
       "      <td>0.022925</td>\n",
       "    </tr>\n",
       "    <tr>\n",
       "      <th>24</th>\n",
       "      <td>0</td>\n",
       "      <td>ENSG00000172965.17__MIR4435.2HG__ncRNA</td>\n",
       "      <td>0.019891</td>\n",
       "    </tr>\n",
       "    <tr>\n",
       "      <th>60</th>\n",
       "      <td>0</td>\n",
       "      <td>ENSG00000268518.1__NA__NA</td>\n",
       "      <td>0.019303</td>\n",
       "    </tr>\n",
       "    <tr>\n",
       "      <th>30</th>\n",
       "      <td>0</td>\n",
       "      <td>ENSG00000187193.9__MT1X__protein.coding</td>\n",
       "      <td>0.018366</td>\n",
       "    </tr>\n",
       "    <tr>\n",
       "      <th>71</th>\n",
       "      <td>0</td>\n",
       "      <td>ENSG00000280466.1__NA__NA</td>\n",
       "      <td>0.018241</td>\n",
       "    </tr>\n",
       "    <tr>\n",
       "      <th>...</th>\n",
       "      <td>...</td>\n",
       "      <td>...</td>\n",
       "      <td>...</td>\n",
       "    </tr>\n",
       "    <tr>\n",
       "      <th>774</th>\n",
       "      <td>9</td>\n",
       "      <td>ENSG00000171658.8__NMRAL2P__pseudo</td>\n",
       "      <td>0.006275</td>\n",
       "    </tr>\n",
       "    <tr>\n",
       "      <th>820</th>\n",
       "      <td>9</td>\n",
       "      <td>ENSG00000272905.1__NA__NA</td>\n",
       "      <td>0.005669</td>\n",
       "    </tr>\n",
       "    <tr>\n",
       "      <th>756</th>\n",
       "      <td>9</td>\n",
       "      <td>ENSG00000117010.17__ZNF684__protein.coding</td>\n",
       "      <td>0.005292</td>\n",
       "    </tr>\n",
       "    <tr>\n",
       "      <th>796</th>\n",
       "      <td>9</td>\n",
       "      <td>ENSG00000222042.2__NA__NA</td>\n",
       "      <td>0.004624</td>\n",
       "    </tr>\n",
       "    <tr>\n",
       "      <th>784</th>\n",
       "      <td>9</td>\n",
       "      <td>ENSG00000184281.15__TSSC4__protein.coding</td>\n",
       "      <td>0.003250</td>\n",
       "    </tr>\n",
       "  </tbody>\n",
       "</table>\n",
       "<p>835 rows × 3 columns</p>\n",
       "</div>"
      ],
      "text/plain": [
       "     fold                                     feature  importance\n",
       "36      0     ENSG00000213221.5__DNLZ__protein.coding    0.022925\n",
       "24      0      ENSG00000172965.17__MIR4435.2HG__ncRNA    0.019891\n",
       "60      0                   ENSG00000268518.1__NA__NA    0.019303\n",
       "30      0     ENSG00000187193.9__MT1X__protein.coding    0.018366\n",
       "71      0                   ENSG00000280466.1__NA__NA    0.018241\n",
       "..    ...                                         ...         ...\n",
       "774     9          ENSG00000171658.8__NMRAL2P__pseudo    0.006275\n",
       "820     9                   ENSG00000272905.1__NA__NA    0.005669\n",
       "756     9  ENSG00000117010.17__ZNF684__protein.coding    0.005292\n",
       "796     9                   ENSG00000222042.2__NA__NA    0.004624\n",
       "784     9   ENSG00000184281.15__TSSC4__protein.coding    0.003250\n",
       "\n",
       "[835 rows x 3 columns]"
      ]
     },
     "execution_count": 45,
     "metadata": {},
     "output_type": "execute_result"
    }
   ],
   "source": [
    "all_feature_counts"
   ]
  },
  {
   "cell_type": "code",
   "execution_count": 54,
   "id": "ac7807c8-8839-44e5-98a6-c8d2d4f9bafa",
   "metadata": {},
   "outputs": [],
   "source": [
    "feature_counts = all_feature_counts['feature'].value_counts()\n",
    "common_features = feature_counts[feature_counts >= 5].index\n",
    "df_filtered = all_feature_counts[all_feature_counts['feature'].isin(common_features)]\n",
    "\n",
    "stats = df_filtered.groupby('feature')['importance'].agg(['sum', 'mean', 'count'])\n",
    "stats = stats.sort_values('mean', ascending=False)\n",
    "\n",
    "top_feature = stats.index[:33]\n",
    "feature_selected = list(top_feature)"
   ]
  },
  {
   "cell_type": "code",
   "execution_count": 56,
   "id": "630e39f0-41df-451f-8bf7-1563b940cd17",
   "metadata": {},
   "outputs": [
    {
     "data": {
      "text/plain": [
       "['ENSG00000182853.12__VMO1__protein.coding',\n",
       " 'ENSG00000204172.12__AGAP9__protein.coding',\n",
       " 'ENSG00000256407.2__NA__NA',\n",
       " 'ENSG00000268518.1__NA__NA',\n",
       " 'ENSG00000196295.13__NA__NA',\n",
       " 'ENSG00000159556.10__ISL2__protein.coding',\n",
       " 'ENSG00000280466.1__NA__NA',\n",
       " 'ENSG00000261270.1__NA__NA',\n",
       " 'ENSG00000155761.14__SPAG17__protein.coding',\n",
       " 'ENSG00000177300.7__CLDN22__protein.coding',\n",
       " 'HMDB0029688__.beta..Naphthol.ethyl.ether',\n",
       " 'ENSG00000288851.1__NA__NA',\n",
       " 'HMDB0031162__UF7990000',\n",
       " 'HMDB0012843__6.Hydroxycaproic.acid',\n",
       " 'ENSG00000133661.17__SFTPD__protein.coding',\n",
       " 'ENSG00000242611.2__NA__NA',\n",
       " 'ENSG00000172965.17__MIR4435.2HG__ncRNA',\n",
       " 'ENSG00000187091.14__PLCD1__protein.coding',\n",
       " 'HMDB0032699__.2..2..Isobutyryloxy..4.methylphenyl..2.oxiranyl.methyl.2.methylbutanoate',\n",
       " 'ENSG00000149243.17__KLHL35__protein.coding',\n",
       " 'ENSG00000168899.5__VAMP5__protein.coding',\n",
       " 'ENSG00000289629.1__NA__NA',\n",
       " 'ENSG00000286681.1__NA__NA',\n",
       " 'ENSG00000234745.13__HLA.B__protein.coding',\n",
       " 'ENSG00000214253.9__FIS1__protein.coding',\n",
       " 'ENSG00000222038.4__POTEJ__protein.coding',\n",
       " 'ENSG00000258768.2__NA__NA',\n",
       " 'ENSG00000162585.17__FAAP20__protein.coding',\n",
       " 'ENSG00000187193.9__MT1X__protein.coding',\n",
       " 'ENSG00000181619.12__GPR135__protein.coding',\n",
       " 'ENSG00000110090.13__CPT1A__protein.coding',\n",
       " 'ENSG00000170855.4__TRIAP1__protein.coding',\n",
       " 'ENSG00000269893.9__SNHG8__ncRNA']"
      ]
     },
     "execution_count": 56,
     "metadata": {},
     "output_type": "execute_result"
    }
   ],
   "source": [
    "feature_selected"
   ]
  },
  {
   "cell_type": "code",
   "execution_count": 60,
   "id": "6793ff4d-a199-436c-8ca4-4ea306a9a946",
   "metadata": {},
   "outputs": [
    {
     "name": "stdout",
     "output_type": "stream",
     "text": [
      "0.73\n"
     ]
    }
   ],
   "source": [
    "# Prepare training and test sets\n",
    "Xtrain = X_train[['Age', 'Gender'] + feature_selected]\n",
    "Xtest = X_test[['Age', 'Gender'] + feature_selected]\n",
    "\n",
    "# Initialize and train Random Forest model\n",
    "rf = RandomForestClassifier(random_state=42)\n",
    "rf.fit(Xtrain, y_train)\n",
    "\n",
    "# Predict probabilities for the positive class\n",
    "y_pred_proba = rf.predict_proba(Xtest)[:, 1]\n",
    "\n",
    "# Calculate AUC\n",
    "auc = roc_auc_score(y_test, y_pred_proba)\n",
    "\n",
    "print(f'{auc:.2f}')"
   ]
  },
  {
   "cell_type": "code",
   "execution_count": null,
   "id": "bef9a8bd-6c13-4a45-8c5b-8d215b2ddeaf",
   "metadata": {},
   "outputs": [],
   "source": []
  }
 ],
 "metadata": {
  "kernelspec": {
   "display_name": "pytorch",
   "language": "python",
   "name": "pytorch"
  },
  "language_info": {
   "codemirror_mode": {
    "name": "ipython",
    "version": 3
   },
   "file_extension": ".py",
   "mimetype": "text/x-python",
   "name": "python",
   "nbconvert_exporter": "python",
   "pygments_lexer": "ipython3",
   "version": "3.11.5"
  }
 },
 "nbformat": 4,
 "nbformat_minor": 5
}
