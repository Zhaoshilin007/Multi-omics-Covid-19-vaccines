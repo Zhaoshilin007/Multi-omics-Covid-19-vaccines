{
 "cells": [
  {
   "cell_type": "code",
   "execution_count": 1,
   "id": "6008be8b",
   "metadata": {},
   "outputs": [],
   "source": [
    "from sklearn.feature_selection import SelectFdr, f_classif\n",
    "import pandas as pd\n",
    "import numpy as np\n",
    "from sklearn.preprocessing import MinMaxScaler\n",
    "from scipy.stats import wilcoxon\n",
    "from scipy.stats import ranksums\n",
    "from statsmodels.stats.multitest import fdrcorrection\n",
    "import pandas as pd\n",
    "from sklearn.preprocessing import StandardScaler\n",
    "from sklearn.feature_selection import SelectKBest, f_classif,f_regression\n",
    "from sklearn.linear_model import LogisticRegression\n",
    "from sklearn.pipeline import Pipeline\n",
    "from sklearn.model_selection import RandomizedSearchCV\n",
    "from sklearn.svm import SVC\n",
    "from sklearn.metrics import roc_curve, auc, mean_squared_error, precision_score, jaccard_score, fowlkes_mallows_score, roc_auc_score\n",
    "from sklearn.ensemble import RandomForestClassifier\n",
    "from sklearn.base import BaseEstimator, TransformerMixin, RegressorMixin, clone\n",
    "import numpy as np\n",
    "from sklearn.ensemble import RandomForestRegressor\n",
    "from sklearn.metrics import mean_squared_error,mean_absolute_error,r2_score\n",
    "from boruta import BorutaPy\n",
    "from sklearn.model_selection import StratifiedKFold, RepeatedStratifiedKFold"
   ]
  },
  {
   "cell_type": "code",
   "execution_count": 5,
   "id": "8dfba8aa-a1cc-45aa-af64-7e6bc8014ec6",
   "metadata": {},
   "outputs": [],
   "source": [
    "rna = pd.read_csv('D:/multiomics/2025june/rna_rb.csv', sep=',')\n",
    "lipid = pd.read_csv('D:/multiomics/2025june/lipid_rb.csv', sep=',')\n",
    "meta = pd.read_csv('D:/multiomics/2025june/meta_rb.csv', sep=',')"
   ]
  },
  {
   "cell_type": "code",
   "execution_count": 8,
   "id": "8abb0935-2718-4fd7-9182-1d7676a47925",
   "metadata": {},
   "outputs": [],
   "source": [
    "sets_to_intersect = [\n",
    "    set(rna['id']),\n",
    "    set(lipid['id']),\n",
    "    set(meta['id'])\n",
    "]\n",
    "\n",
    "common_ids = set.intersection(*sets_to_intersect)\n",
    "\n",
    "sorted_common_ids = sorted(common_ids)\n",
    "\n",
    "meta = meta[meta['id'].isin(common_ids)].set_index('id').loc[sorted_common_ids].reset_index()\n",
    "lipid = lipid[lipid['id'].isin(common_ids)].set_index('id').loc[sorted_common_ids].reset_index()\n",
    "rna = rna[rna['id'].isin(common_ids)].set_index('id').loc[sorted_common_ids].reset_index()"
   ]
  },
  {
   "cell_type": "code",
   "execution_count": 9,
   "id": "e7cab3c4-1723-4460-8deb-49fb8380c9ca",
   "metadata": {},
   "outputs": [
    {
     "data": {
      "text/plain": [
       "(188, 188)"
      ]
     },
     "execution_count": 9,
     "metadata": {},
     "output_type": "execute_result"
    }
   ],
   "source": [
    "sum(rna['id']==meta['id']),sum(rna['id']==lipid['id'])"
   ]
  },
  {
   "cell_type": "code",
   "execution_count": 10,
   "id": "75b653d0-05aa-43c9-af08-7222671d87d7",
   "metadata": {},
   "outputs": [],
   "source": [
    "def get_quantile(X_train, column_name,new_column_name,a,b,position):\n",
    "\n",
    "    percentile_a = X_train[column_name].quantile(a)\n",
    "    percentile_b = X_train[column_name].quantile(b)\n",
    "\n",
    "    X_train[new_column_name] = 0\n",
    "    X_train.loc[X_train[column_name] >= percentile_a, new_column_name] = 1\n",
    "\n",
    "    column_to_move = new_column_name\n",
    "    target_column = position\n",
    "\n",
    "    column = X_train.pop(column_to_move)\n",
    "    X_train.insert(target_column, column_to_move, column)\n",
    "    \n",
    "    return X_train"
   ]
  },
  {
   "cell_type": "code",
   "execution_count": 11,
   "id": "98e77c06-1a79-4e0b-afb6-31a9b2ed6e29",
   "metadata": {},
   "outputs": [],
   "source": [
    "rna = get_quantile(rna, 'sVNT_M1_WT_RBD_10_times_dilution','sVNT_M1_WT_RBD',0.75,0,10)\n",
    "meta = meta.reset_index(drop=True)\n",
    "lipid = lipid.reset_index(drop=True)\n",
    "rna = rna.reset_index(drop=True)"
   ]
  },
  {
   "cell_type": "code",
   "execution_count": 12,
   "id": "240d06c9-d400-4a05-b5a4-ea1de4af8b43",
   "metadata": {},
   "outputs": [],
   "source": [
    "f_rna = rna.iloc[:,12:]\n",
    "f_lipid = lipid.iloc[:,6:]\n",
    "f_meta = meta.iloc[:,6:]\n",
    "f_agender = rna.iloc[:,1:3]\n",
    "label = rna.iloc[:,10]"
   ]
  },
  {
   "cell_type": "code",
   "execution_count": 13,
   "id": "39b1f848-d90f-4c88-b81f-baba3914cda1",
   "metadata": {},
   "outputs": [],
   "source": [
    "cross_table = pd.crosstab(rna['sVNT_M1_WT_RBD'], rna['Batch'])"
   ]
  },
  {
   "cell_type": "code",
   "execution_count": 23,
   "id": "fd6b7971-c244-427d-bc15-3ab509194843",
   "metadata": {},
   "outputs": [
    {
     "data": {
      "text/html": [
       "<div>\n",
       "<style scoped>\n",
       "    .dataframe tbody tr th:only-of-type {\n",
       "        vertical-align: middle;\n",
       "    }\n",
       "\n",
       "    .dataframe tbody tr th {\n",
       "        vertical-align: top;\n",
       "    }\n",
       "\n",
       "    .dataframe thead th {\n",
       "        text-align: right;\n",
       "    }\n",
       "</style>\n",
       "<table border=\"1\" class=\"dataframe\">\n",
       "  <thead>\n",
       "    <tr style=\"text-align: right;\">\n",
       "      <th>Batch</th>\n",
       "      <th>Batch01</th>\n",
       "      <th>Batch02</th>\n",
       "    </tr>\n",
       "    <tr>\n",
       "      <th>sVNT_M1_WT_RBD</th>\n",
       "      <th></th>\n",
       "      <th></th>\n",
       "    </tr>\n",
       "  </thead>\n",
       "  <tbody>\n",
       "    <tr>\n",
       "      <th>0</th>\n",
       "      <td>81</td>\n",
       "      <td>60</td>\n",
       "    </tr>\n",
       "    <tr>\n",
       "      <th>1</th>\n",
       "      <td>10</td>\n",
       "      <td>37</td>\n",
       "    </tr>\n",
       "  </tbody>\n",
       "</table>\n",
       "</div>"
      ],
      "text/plain": [
       "Batch           Batch01  Batch02\n",
       "sVNT_M1_WT_RBD                  \n",
       "0                    81       60\n",
       "1                    10       37"
      ]
     },
     "execution_count": 23,
     "metadata": {},
     "output_type": "execute_result"
    }
   ],
   "source": [
    "cross_table"
   ]
  },
  {
   "cell_type": "code",
   "execution_count": 24,
   "id": "228a9c30-dfe1-454e-9ad7-8a241cdda9d2",
   "metadata": {},
   "outputs": [],
   "source": [
    "combine = pd.concat([f_rna, f_lipid, f_meta], axis=1) \n",
    "combine = pd.concat([f_agender, combine], axis=1)"
   ]
  },
  {
   "cell_type": "code",
   "execution_count": 25,
   "id": "2e7e21c0-72e7-4781-9e20-aa27035c16e1",
   "metadata": {},
   "outputs": [],
   "source": [
    "bl = (\n",
    "    rna['Batch'].astype(str).str.cat(rna['sVNT_M1_WT_RBD'].astype(str), sep='_')\n",
    ")"
   ]
  },
  {
   "cell_type": "code",
   "execution_count": 26,
   "id": "64527a51-c656-4e28-bcba-843e77733792",
   "metadata": {},
   "outputs": [],
   "source": [
    "from sklearn.model_selection import train_test_split\n",
    "X_train, X_test, y_train, y_test = train_test_split(combine, label, test_size=0.2,stratify=bl,random_state=42)"
   ]
  },
  {
   "cell_type": "code",
   "execution_count": 27,
   "id": "fcd368f8-65ca-4b5d-b16f-7e0021588708",
   "metadata": {},
   "outputs": [
    {
     "data": {
      "text/plain": [
       "((150, 44946), (38, 44946), (150,), (38,), (188,))"
      ]
     },
     "execution_count": 27,
     "metadata": {},
     "output_type": "execute_result"
    }
   ],
   "source": [
    "X_train.shape, X_test.shape, y_train.shape, y_test.shape,bl.shape"
   ]
  },
  {
   "cell_type": "code",
   "execution_count": 28,
   "id": "bf2f2eeb-779b-4a98-9972-0ac874edc407",
   "metadata": {},
   "outputs": [
    {
     "data": {
      "text/plain": [
       "184    Batch02_0\n",
       "46     Batch02_1\n",
       "39     Batch02_1\n",
       "94     Batch01_0\n",
       "70     Batch02_0\n",
       "         ...    \n",
       "17     Batch02_1\n",
       "29     Batch02_1\n",
       "139    Batch01_0\n",
       "126    Batch01_0\n",
       "186    Batch01_0\n",
       "Name: Batch, Length: 150, dtype: object"
      ]
     },
     "execution_count": 28,
     "metadata": {},
     "output_type": "execute_result"
    }
   ],
   "source": [
    "bl[X_train.index]"
   ]
  },
  {
   "cell_type": "code",
   "execution_count": 35,
   "id": "8ff24cae-57f4-4d1c-848a-8a135509b563",
   "metadata": {},
   "outputs": [
    {
     "name": "stderr",
     "output_type": "stream",
     "text": [
      "[Parallel(n_jobs=-1)]: Using backend LokyBackend with 32 concurrent workers.\n",
      "C:\\Users\\win11\\.conda\\envs\\pytorch\\Lib\\site-packages\\sklearn\\model_selection\\_split.py:805: UserWarning: The least populated class in y has only 8 members, which is less than n_splits=10.\n",
      "  warnings.warn(\n",
      "[Parallel(n_jobs=-1)]: Done   3 out of  10 | elapsed:  1.7min remaining:  3.9min\n",
      "[Parallel(n_jobs=-1)]: Done   5 out of  10 | elapsed:  1.7min remaining:  1.7min\n",
      "[Parallel(n_jobs=-1)]: Done   7 out of  10 | elapsed:  1.7min remaining:   44.3s\n",
      "[Parallel(n_jobs=-1)]: Done  10 out of  10 | elapsed:  1.8min finished\n"
     ]
    },
    {
     "name": "stdout",
     "output_type": "stream",
     "text": [
      "     fold                                    feature  importance\n",
      "35      0   ENSG00000140463.14__BBS4__protein.coding    0.021758\n",
      "110     0        ENSG00000280411.1__IGHV1.69D__other    0.021257\n",
      "36      0  ENSG00000140829.12__DHX38__protein.coding    0.017193\n",
      "131     0    HMDB0059701__1.6.7.Trimethylnaphthalene    0.015535\n",
      "118     0                        LPC.17.1..rep..rep.    0.014766\n"
     ]
    }
   ],
   "source": [
    "from boruta import BorutaPy\n",
    "from sklearn.ensemble import RandomForestClassifier\n",
    "from functools import partial\n",
    "from sklearn.model_selection import StratifiedKFold\n",
    "from sklearn.feature_selection import f_classif\n",
    "from joblib import Parallel, delayed\n",
    "import pandas as pd\n",
    "\n",
    "def process_fold(train_idx, val_idx, i, X_train, y_train):\n",
    "    print(f\"Processing fold {i}\")\n",
    "    \n",
    "    X_fold_train, y_fold_train = X_train.iloc[train_idx], y_train.iloc[train_idx]\n",
    "    \n",
    "    F_values, p_values = f_classif(X_fold_train, y_fold_train)\n",
    "    significant_features_mask = p_values < 0.05\n",
    "    significant_features = X_fold_train.columns[significant_features_mask]\n",
    "    print(f\"Fold {i+1}: {len(significant_features)} significant features\")\n",
    "    X_fold_train_sig = X_fold_train[significant_features]\n",
    "\n",
    "    estimator = RandomForestClassifier(random_state=42, n_jobs=-1)\n",
    "    \n",
    "    boruta_selector = BorutaPy(\n",
    "        estimator=estimator,\n",
    "        n_estimators='auto', \n",
    "        verbose=0,          \n",
    "        random_state=42,\n",
    "        max_iter=100,     \n",
    "        perc=95,alpha=0.05             \n",
    "    )\n",
    "    \n",
    "    boruta_selector.fit(X_fold_train_sig.values, y_fold_train.values)\n",
    "    \n",
    "\n",
    "    selected_features_mask = boruta_selector.support_\n",
    "    selected_features = significant_features[selected_features_mask]\n",
    "    \n",
    "\n",
    "    estimator.fit(X_fold_train_sig[selected_features], y_fold_train)\n",
    "    importances = estimator.feature_importances_\n",
    "    \n",
    "\n",
    "    return [\n",
    "        {\n",
    "            'fold': i,\n",
    "            'feature': feature,\n",
    "            'importance': importance,\n",
    "        }\n",
    "        for feature, importance in zip(selected_features, importances)\n",
    "    ]\n",
    "\n",
    "\n",
    "def main():\n",
    "\n",
    "    cv = StratifiedKFold(n_splits=10, shuffle=True, random_state=42)\n",
    "    \n",
    "\n",
    "    results = Parallel(n_jobs=-1, verbose=10)(\n",
    "        delayed(partial(process_fold, X_train=X_train, y_train=y_train))(train_idx, val_idx, i)\n",
    "        for i, (train_idx, val_idx) in enumerate(cv.split(X_train, bl[X_train.index]))\n",
    "    )\n",
    "    \n",
    "\n",
    "    results = [item for sublist in results for item in sublist]\n",
    "    \n",
    "\n",
    "    results_df = pd.DataFrame(results)\n",
    "    \n",
    "\n",
    "    results_df = results_df.sort_values(['fold', 'importance'], ascending=[True, False])\n",
    "    \n",
    "\n",
    "    print(results_df.head())\n",
    "    return results_df\n",
    "\n",
    "if __name__ == '__main__':\n",
    "    all_feature_counts = main()"
   ]
  },
  {
   "cell_type": "code",
   "execution_count": 36,
   "id": "43dfd254-671f-4870-b78c-292ed0e796bf",
   "metadata": {},
   "outputs": [],
   "source": [
    "feature_counts = all_feature_counts['feature'].value_counts()\n",
    "common_features = feature_counts[feature_counts >= 8].index\n",
    "df_filtered = all_feature_counts[all_feature_counts['feature'].isin(common_features)]\n",
    "\n",
    "stats = df_filtered.groupby('feature')['importance'].agg(['sum', 'mean', 'count'])\n",
    "stats = stats.sort_values('count', ascending=False)\n",
    "\n",
    "top_feature = stats.index[:3]\n",
    "feature_selected = list(top_feature)"
   ]
  },
  {
   "cell_type": "code",
   "execution_count": 37,
   "id": "4cbd70cc-9fc5-481f-817f-21e4ce65446f",
   "metadata": {},
   "outputs": [
    {
     "data": {
      "text/plain": [
       "['C09694__Juvenile.hormone.III',\n",
       " 'C12859__Estradiol.valerate',\n",
       " 'ENSG00000173862.3__FLJ20712__ncRNA']"
      ]
     },
     "execution_count": 37,
     "metadata": {},
     "output_type": "execute_result"
    }
   ],
   "source": [
    "feature_selected"
   ]
  },
  {
   "cell_type": "code",
   "execution_count": 51,
   "id": "1222f61c-22b4-419d-94cd-7b157dafb98b",
   "metadata": {},
   "outputs": [
    {
     "name": "stdout",
     "output_type": "stream",
     "text": [
      "0.72\n"
     ]
    }
   ],
   "source": [
    "# Prepare training and test sets\n",
    "Xtrain = X_train[['Age', 'Gender'] + feature_selected]\n",
    "Xtest = X_test[['Age', 'Gender'] + feature_selected]\n",
    "\n",
    "# Initialize and train Random Forest model\n",
    "rf = RandomForestClassifier(random_state=42)\n",
    "rf.fit(Xtrain, y_train)\n",
    "\n",
    "# Predict probabilities for the positive class\n",
    "y_pred_proba = rf.predict_proba(Xtest)[:, 1]\n",
    "\n",
    "# Calculate AUC\n",
    "auc = roc_auc_score(y_test, y_pred_proba)\n",
    "\n",
    "print(f'{auc:.2f}')"
   ]
  },
  {
   "cell_type": "code",
   "execution_count": null,
   "id": "9672ad85-a993-4c22-a420-2591809a166f",
   "metadata": {},
   "outputs": [],
   "source": []
  }
 ],
 "metadata": {
  "kernelspec": {
   "display_name": "pytorch",
   "language": "python",
   "name": "pytorch"
  },
  "language_info": {
   "codemirror_mode": {
    "name": "ipython",
    "version": 3
   },
   "file_extension": ".py",
   "mimetype": "text/x-python",
   "name": "python",
   "nbconvert_exporter": "python",
   "pygments_lexer": "ipython3",
   "version": "3.11.5"
  }
 },
 "nbformat": 4,
 "nbformat_minor": 5
}
