{
 "cells": [
  {
   "cell_type": "code",
   "execution_count": 40,
   "id": "6008be8b",
   "metadata": {},
   "outputs": [],
   "source": [
    "from sklearn.feature_selection import SelectFdr, f_classif\n",
    "import pandas as pd\n",
    "import numpy as np\n",
    "from sklearn.preprocessing import MinMaxScaler\n",
    "from scipy.stats import wilcoxon\n",
    "from scipy.stats import ranksums\n",
    "from statsmodels.stats.multitest import fdrcorrection\n",
    "import pandas as pd\n",
    "from sklearn.preprocessing import StandardScaler\n",
    "from sklearn.feature_selection import SelectKBest, f_classif,f_regression\n",
    "from sklearn.linear_model import LogisticRegression\n",
    "from sklearn.pipeline import Pipeline\n",
    "from sklearn.model_selection import RandomizedSearchCV\n",
    "from sklearn.svm import SVC\n",
    "from sklearn.metrics import roc_curve, auc, mean_squared_error, precision_score, jaccard_score, fowlkes_mallows_score, roc_auc_score\n",
    "from sklearn.ensemble import RandomForestClassifier\n",
    "from sklearn.base import BaseEstimator, TransformerMixin, RegressorMixin, clone\n",
    "import numpy as np\n",
    "from sklearn.ensemble import RandomForestRegressor\n",
    "from sklearn.metrics import mean_squared_error,mean_absolute_error,r2_score\n",
    "from boruta import BorutaPy\n",
    "from sklearn.model_selection import StratifiedKFold, RepeatedStratifiedKFold"
   ]
  },
  {
   "cell_type": "code",
   "execution_count": 45,
   "id": "cee672f8-8c08-4c4f-8818-cacc0f16881a",
   "metadata": {},
   "outputs": [],
   "source": [
    "rna = pd.read_csv('D:/multiomics/2025june/rna_rb.csv', sep=',')\n",
    "lipid = pd.read_csv('D:/multiomics/2025june/lipid_rb.csv', sep=',')\n",
    "meta = pd.read_csv('D:/multiomics/2025june/meta_rb.csv', sep=',')"
   ]
  },
  {
   "cell_type": "code",
   "execution_count": 46,
   "id": "8abb0935-2718-4fd7-9182-1d7676a47925",
   "metadata": {},
   "outputs": [],
   "source": [
    "sets_to_intersect = [\n",
    "    set(rna['id']),\n",
    "    set(lipid['id']),\n",
    "    set(meta['id'])\n",
    "]\n",
    "\n",
    "common_ids = set.intersection(*sets_to_intersect)\n",
    "\n",
    "\n",
    "sorted_common_ids = sorted(common_ids)\n",
    "\n",
    "\n",
    "meta = meta[meta['id'].isin(common_ids)].set_index('id').loc[sorted_common_ids].reset_index()\n",
    "lipid = lipid[lipid['id'].isin(common_ids)].set_index('id').loc[sorted_common_ids].reset_index()\n",
    "rna = rna[rna['id'].isin(common_ids)].set_index('id').loc[sorted_common_ids].reset_index()"
   ]
  },
  {
   "cell_type": "code",
   "execution_count": 47,
   "id": "e7cab3c4-1723-4460-8deb-49fb8380c9ca",
   "metadata": {},
   "outputs": [
    {
     "data": {
      "text/plain": [
       "(188, 188)"
      ]
     },
     "execution_count": 47,
     "metadata": {},
     "output_type": "execute_result"
    }
   ],
   "source": [
    "sum(rna['id']==meta['id']),sum(rna['id']==lipid['id'])"
   ]
  },
  {
   "cell_type": "code",
   "execution_count": 48,
   "id": "75b653d0-05aa-43c9-af08-7222671d87d7",
   "metadata": {},
   "outputs": [],
   "source": [
    "def get_quantile(X_train, column_name,new_column_name,a,b,position):\n",
    "\n",
    "    percentile_a = X_train[column_name].quantile(a)\n",
    "    percentile_b = X_train[column_name].quantile(b)\n",
    "\n",
    "    X_train[new_column_name] = 0\n",
    "    X_train.loc[X_train[column_name] <= percentile_a, new_column_name] = 1\n",
    "\n",
    "    column_to_move = new_column_name\n",
    "    target_column = position\n",
    "\n",
    "    column = X_train.pop(column_to_move)\n",
    "    X_train.insert(target_column, column_to_move, column)\n",
    "    \n",
    "    return X_train"
   ]
  },
  {
   "cell_type": "code",
   "execution_count": 49,
   "id": "98e77c06-1a79-4e0b-afb6-31a9b2ed6e29",
   "metadata": {},
   "outputs": [],
   "source": [
    "rna = get_quantile(rna, 'sVNT_M1_WT_RBD_10_times_dilution','sVNT_M1_WT_RBD',0.25,0,10)\n",
    "meta = meta.reset_index(drop=True)\n",
    "lipid = lipid.reset_index(drop=True)\n",
    "rna = rna.reset_index(drop=True)"
   ]
  },
  {
   "cell_type": "code",
   "execution_count": 50,
   "id": "240d06c9-d400-4a05-b5a4-ea1de4af8b43",
   "metadata": {},
   "outputs": [],
   "source": [
    "f_rna = rna.iloc[:,12:]\n",
    "f_lipid = lipid.iloc[:,6:]\n",
    "f_meta = meta.iloc[:,6:]\n",
    "f_agender = rna.iloc[:,1:3]\n",
    "label = rna.iloc[:,10]"
   ]
  },
  {
   "cell_type": "code",
   "execution_count": 51,
   "id": "fc831d42-6084-4a4c-84c6-14c5a03fbb4a",
   "metadata": {},
   "outputs": [
    {
     "data": {
      "text/plain": [
       "0      0\n",
       "1      0\n",
       "2      0\n",
       "3      0\n",
       "4      0\n",
       "      ..\n",
       "183    1\n",
       "184    1\n",
       "185    0\n",
       "186    1\n",
       "187    1\n",
       "Name: sVNT_M1_WT_RBD, Length: 188, dtype: int64"
      ]
     },
     "execution_count": 51,
     "metadata": {},
     "output_type": "execute_result"
    }
   ],
   "source": [
    "label"
   ]
  },
  {
   "cell_type": "code",
   "execution_count": 52,
   "id": "0f14372b-969c-4337-9f42-4994247657b6",
   "metadata": {},
   "outputs": [
    {
     "data": {
      "text/plain": [
       "0      43.524180\n",
       "1      73.985548\n",
       "2      64.591440\n",
       "3      79.988883\n",
       "4      97.832129\n",
       "         ...    \n",
       "183     9.912732\n",
       "184     2.955794\n",
       "185    49.742672\n",
       "186    20.428982\n",
       "187    25.032697\n",
       "Name: sVNT_M1_WT_RBD_10_times_dilution, Length: 188, dtype: float64"
      ]
     },
     "execution_count": 52,
     "metadata": {},
     "output_type": "execute_result"
    }
   ],
   "source": [
    "rna['sVNT_M1_WT_RBD_10_times_dilution']"
   ]
  },
  {
   "cell_type": "code",
   "execution_count": 53,
   "id": "39b1f848-d90f-4c88-b81f-baba3914cda1",
   "metadata": {},
   "outputs": [],
   "source": [
    "cross_table = pd.crosstab(rna['sVNT_M1_WT_RBD'], rna['Batch'])"
   ]
  },
  {
   "cell_type": "code",
   "execution_count": 54,
   "id": "fd6b7971-c244-427d-bc15-3ab509194843",
   "metadata": {},
   "outputs": [
    {
     "data": {
      "text/html": [
       "<div>\n",
       "<style scoped>\n",
       "    .dataframe tbody tr th:only-of-type {\n",
       "        vertical-align: middle;\n",
       "    }\n",
       "\n",
       "    .dataframe tbody tr th {\n",
       "        vertical-align: top;\n",
       "    }\n",
       "\n",
       "    .dataframe thead th {\n",
       "        text-align: right;\n",
       "    }\n",
       "</style>\n",
       "<table border=\"1\" class=\"dataframe\">\n",
       "  <thead>\n",
       "    <tr style=\"text-align: right;\">\n",
       "      <th>Batch</th>\n",
       "      <th>Batch01</th>\n",
       "      <th>Batch02</th>\n",
       "    </tr>\n",
       "    <tr>\n",
       "      <th>sVNT_M1_WT_RBD</th>\n",
       "      <th></th>\n",
       "      <th></th>\n",
       "    </tr>\n",
       "  </thead>\n",
       "  <tbody>\n",
       "    <tr>\n",
       "      <th>0</th>\n",
       "      <td>57</td>\n",
       "      <td>84</td>\n",
       "    </tr>\n",
       "    <tr>\n",
       "      <th>1</th>\n",
       "      <td>34</td>\n",
       "      <td>13</td>\n",
       "    </tr>\n",
       "  </tbody>\n",
       "</table>\n",
       "</div>"
      ],
      "text/plain": [
       "Batch           Batch01  Batch02\n",
       "sVNT_M1_WT_RBD                  \n",
       "0                    57       84\n",
       "1                    34       13"
      ]
     },
     "execution_count": 54,
     "metadata": {},
     "output_type": "execute_result"
    }
   ],
   "source": [
    "cross_table"
   ]
  },
  {
   "cell_type": "code",
   "execution_count": 55,
   "id": "228a9c30-dfe1-454e-9ad7-8a241cdda9d2",
   "metadata": {},
   "outputs": [],
   "source": [
    "combine = pd.concat([f_rna, f_lipid, f_meta], axis=1) \n",
    "combine = pd.concat([f_agender, combine], axis=1)"
   ]
  },
  {
   "cell_type": "code",
   "execution_count": 56,
   "id": "2e7e21c0-72e7-4781-9e20-aa27035c16e1",
   "metadata": {},
   "outputs": [],
   "source": [
    "bl = (\n",
    "    rna['Batch'].astype(str).str.cat(rna['sVNT_M1_WT_RBD'].astype(str), sep='_')\n",
    ")"
   ]
  },
  {
   "cell_type": "code",
   "execution_count": 57,
   "id": "64527a51-c656-4e28-bcba-843e77733792",
   "metadata": {},
   "outputs": [],
   "source": [
    "from sklearn.model_selection import train_test_split\n",
    "X_train, X_test, y_train, y_test = train_test_split(combine, label, test_size=0.2,stratify=bl,random_state=42)"
   ]
  },
  {
   "cell_type": "code",
   "execution_count": 58,
   "id": "fcd368f8-65ca-4b5d-b16f-7e0021588708",
   "metadata": {},
   "outputs": [
    {
     "data": {
      "text/plain": [
       "((150, 44946), (38, 44946), (150,), (38,), (188,))"
      ]
     },
     "execution_count": 58,
     "metadata": {},
     "output_type": "execute_result"
    }
   ],
   "source": [
    "X_train.shape, X_test.shape, y_train.shape, y_test.shape,bl.shape"
   ]
  },
  {
   "cell_type": "code",
   "execution_count": 59,
   "id": "bf2f2eeb-779b-4a98-9972-0ac874edc407",
   "metadata": {},
   "outputs": [
    {
     "data": {
      "text/plain": [
       "118    Batch01_0\n",
       "132    Batch01_0\n",
       "177    Batch01_0\n",
       "20     Batch02_0\n",
       "98     Batch02_0\n",
       "         ...    \n",
       "160    Batch01_1\n",
       "136    Batch02_0\n",
       "163    Batch02_0\n",
       "13     Batch02_0\n",
       "175    Batch01_1\n",
       "Name: Batch, Length: 150, dtype: object"
      ]
     },
     "execution_count": 59,
     "metadata": {},
     "output_type": "execute_result"
    }
   ],
   "source": [
    "bl[X_train.index]"
   ]
  },
  {
   "cell_type": "code",
   "execution_count": 60,
   "id": "8ff24cae-57f4-4d1c-848a-8a135509b563",
   "metadata": {},
   "outputs": [
    {
     "name": "stderr",
     "output_type": "stream",
     "text": [
      "[Parallel(n_jobs=-1)]: Using backend LokyBackend with 32 concurrent workers.\n",
      "[Parallel(n_jobs=-1)]: Done   3 out of  10 | elapsed:  1.5min remaining:  3.5min\n",
      "[Parallel(n_jobs=-1)]: Done   5 out of  10 | elapsed:  1.5min remaining:  1.5min\n",
      "[Parallel(n_jobs=-1)]: Done   7 out of  10 | elapsed:  1.6min remaining:   40.0s\n"
     ]
    },
    {
     "name": "stdout",
     "output_type": "stream",
     "text": [
      "     fold                                    feature  importance\n",
      "155     0                 C10784__Cannabidiolic.acid    0.024330\n",
      "48      0                  ENSG00000203497.3__NA__NA    0.020133\n",
      "28      0  ENSG00000143845.15__ETNK2__protein.coding    0.012031\n",
      "21      0  ENSG00000125787.11__GNRH2__protein.coding    0.011810\n",
      "97      0                  ENSG00000250069.1__NA__NA    0.010955\n"
     ]
    },
    {
     "name": "stderr",
     "output_type": "stream",
     "text": [
      "[Parallel(n_jobs=-1)]: Done  10 out of  10 | elapsed:  1.6min finished\n"
     ]
    }
   ],
   "source": [
    "from boruta import BorutaPy\n",
    "from sklearn.ensemble import RandomForestClassifier\n",
    "from functools import partial\n",
    "from sklearn.model_selection import StratifiedKFold\n",
    "from sklearn.feature_selection import f_classif\n",
    "from joblib import Parallel, delayed\n",
    "import pandas as pd\n",
    "\n",
    "def process_fold(train_idx, val_idx, i, X_train, y_train):\n",
    "    print(f\"Processing fold {i}\")\n",
    "    \n",
    "\n",
    "    X_fold_train, y_fold_train = X_train.iloc[train_idx], y_train.iloc[train_idx]\n",
    "    \n",
    "\n",
    "    F_values, p_values = f_classif(X_fold_train, y_fold_train)\n",
    "    significant_features_mask = p_values < 0.05\n",
    "    significant_features = X_fold_train.columns[significant_features_mask]\n",
    "    print(f\"Fold {i+1}: {len(significant_features)} significant features\")\n",
    "    X_fold_train_sig = X_fold_train[significant_features]\n",
    "\n",
    "    estimator = RandomForestClassifier(random_state=42, n_jobs=-1)\n",
    "    \n",
    "    boruta_selector = BorutaPy(\n",
    "        estimator=estimator,\n",
    "        n_estimators='auto',  \n",
    "        verbose=0,           \n",
    "        random_state=42,\n",
    "        max_iter=100,       \n",
    "        perc=95,alpha=0.05              \n",
    "    )\n",
    "    \n",
    "\n",
    "    boruta_selector.fit(X_fold_train_sig.values, y_fold_train.values)\n",
    "    \n",
    "\n",
    "    selected_features_mask = boruta_selector.support_\n",
    "    selected_features = significant_features[selected_features_mask]\n",
    "    \n",
    "\n",
    "    estimator.fit(X_fold_train_sig[selected_features], y_fold_train)\n",
    "    importances = estimator.feature_importances_\n",
    "    \n",
    "\n",
    "    return [\n",
    "        {\n",
    "            'fold': i,\n",
    "            'feature': feature,\n",
    "            'importance': importance,\n",
    "        }\n",
    "        for feature, importance in zip(selected_features, importances)\n",
    "    ]\n",
    "\n",
    "\n",
    "def main():\n",
    "  \n",
    "    cv = StratifiedKFold(n_splits=10, shuffle=True, random_state=42)\n",
    "    \n",
    "    results = Parallel(n_jobs=-1, verbose=10)(\n",
    "        delayed(partial(process_fold, X_train=X_train, y_train=y_train))(train_idx, val_idx, i)\n",
    "        for i, (train_idx, val_idx) in enumerate(cv.split(X_train, bl[X_train.index]))\n",
    "    )\n",
    "    \n",
    "\n",
    "    results = [item for sublist in results for item in sublist]\n",
    "    \n",
    "\n",
    "    results_df = pd.DataFrame(results)\n",
    "    \n",
    "\n",
    "    results_df = results_df.sort_values(['fold', 'importance'], ascending=[True, False])\n",
    "\n",
    "    print(results_df.head())\n",
    "    return results_df\n",
    "\n",
    "if __name__ == '__main__':\n",
    "    all_feature_counts = main()"
   ]
  },
  {
   "cell_type": "code",
   "execution_count": 61,
   "id": "41687567-c5ed-430f-90c1-efb737a0e2f7",
   "metadata": {},
   "outputs": [],
   "source": [
    "feature_counts = all_feature_counts['feature'].value_counts()\n",
    "common_features = feature_counts[feature_counts >= 5].index\n",
    "df_filtered = all_feature_counts[all_feature_counts['feature'].isin(common_features)]\n",
    "\n",
    "stats = df_filtered.groupby('feature')['importance'].agg(['sum', 'mean', 'count'])\n",
    "stats = stats.sort_values('mean', ascending=False)\n",
    "\n",
    "top_feature = stats.index[:13]\n",
    "feature_selected = list(top_feature)"
   ]
  },
  {
   "cell_type": "code",
   "execution_count": 65,
   "id": "f3918463-dae3-4a80-801f-7a51cf1865b0",
   "metadata": {},
   "outputs": [
    {
     "data": {
      "text/plain": [
       "['ENSG00000203497.3__NA__NA',\n",
       " 'C10784__Cannabidiolic.acid',\n",
       " 'ENSG00000258017.3__LOC105369760__ncRNA',\n",
       " 'X5283130__12.Epileukotriene.B4',\n",
       " 'C12859__Estradiol.valerate',\n",
       " 'HMDB0015684__Diloxanide.furoate',\n",
       " 'HMDB0002237__3.4.Dimethylbenzoic.acid',\n",
       " 'ENSG00000226668.5__NA__NA',\n",
       " 'ENSG00000223350.2__IGLV9.49__other',\n",
       " 'ENSG00000104960.15__PTOV1__protein.coding',\n",
       " 'ENSG00000115423.19__DNAH6__protein.coding',\n",
       " 'ENSG00000250069.1__NA__NA',\n",
       " 'C10935__DEET']"
      ]
     },
     "execution_count": 65,
     "metadata": {},
     "output_type": "execute_result"
    }
   ],
   "source": [
    "feature_selected"
   ]
  },
  {
   "cell_type": "code",
   "execution_count": 87,
   "id": "5eb8cad9-ce86-4bc8-9515-2ab0e092b5f8",
   "metadata": {},
   "outputs": [
    {
     "name": "stdout",
     "output_type": "stream",
     "text": [
      "0.80\n"
     ]
    }
   ],
   "source": [
    "# Prepare training and test sets\n",
    "Xtrain = X_train[['Age', 'Gender'] + feature_selected]\n",
    "Xtest = X_test[['Age', 'Gender'] + feature_selected]\n",
    "\n",
    "# Initialize and train Random Forest model\n",
    "rf = RandomForestClassifier(random_state=42)\n",
    "rf.fit(Xtrain, y_train)\n",
    "\n",
    "# Predict probabilities for the positive class\n",
    "y_pred_proba = rf.predict_proba(Xtest)[:, 1]\n",
    "\n",
    "# Calculate AUC\n",
    "auc = roc_auc_score(y_test, y_pred_proba)\n",
    "\n",
    "print(f'{auc:.2f}')"
   ]
  },
  {
   "cell_type": "code",
   "execution_count": null,
   "id": "60b0c48d-8c09-40aa-ae8f-d0eb56439e39",
   "metadata": {},
   "outputs": [],
   "source": []
  }
 ],
 "metadata": {
  "kernelspec": {
   "display_name": "pytorch",
   "language": "python",
   "name": "pytorch"
  },
  "language_info": {
   "codemirror_mode": {
    "name": "ipython",
    "version": 3
   },
   "file_extension": ".py",
   "mimetype": "text/x-python",
   "name": "python",
   "nbconvert_exporter": "python",
   "pygments_lexer": "ipython3",
   "version": "3.11.5"
  }
 },
 "nbformat": 4,
 "nbformat_minor": 5
}
